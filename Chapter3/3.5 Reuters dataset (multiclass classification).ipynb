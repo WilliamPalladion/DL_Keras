{
 "cells": [
  {
   "cell_type": "markdown",
   "metadata": {},
   "source": [
    "# 3.5 Reuters dataset (*multiclass classification*)"
   ]
  },
  {
   "cell_type": "markdown",
   "metadata": {},
   "source": [
    "## classify Reuters newswires into 46 mutually exclusive topics"
   ]
  },
  {
   "cell_type": "markdown",
   "metadata": {},
   "source": [
    "## *Multiclass classification* problem --- In this case, each data point will be classified into only one category, thus it is a *single-label, multiclass classification* problem. If each data point could belong to multiple categories, it would be a *multilabel, milticlass classification* problem"
   ]
  },
  {
   "cell_type": "code",
   "execution_count": 1,
   "metadata": {},
   "outputs": [
    {
     "name": "stderr",
     "output_type": "stream",
     "text": [
      "Using TensorFlow backend.\n"
     ]
    },
    {
     "name": "stdout",
     "output_type": "stream",
     "text": [
      "Downloading data from https://s3.amazonaws.com/text-datasets/reuters.npz\n",
      "2113536/2110848 [==============================] - 1s 0us/step\n"
     ]
    },
    {
     "name": "stderr",
     "output_type": "stream",
     "text": [
      "/home/yanbo/.local/lib/python3.6/site-packages/keras/datasets/reuters.py:85: VisibleDeprecationWarning: Creating an ndarray from ragged nested sequences (which is a list-or-tuple of lists-or-tuples-or ndarrays with different lengths or shapes) is deprecated. If you meant to do this, you must specify 'dtype=object' when creating the ndarray\n",
      "  x_train, y_train = np.array(xs[:idx]), np.array(labels[:idx])\n",
      "/home/yanbo/.local/lib/python3.6/site-packages/keras/datasets/reuters.py:86: VisibleDeprecationWarning: Creating an ndarray from ragged nested sequences (which is a list-or-tuple of lists-or-tuples-or ndarrays with different lengths or shapes) is deprecated. If you meant to do this, you must specify 'dtype=object' when creating the ndarray\n",
      "  x_test, y_test = np.array(xs[idx:]), np.array(labels[idx:])\n"
     ]
    }
   ],
   "source": [
    "from keras.datasets import reuters\n",
    "\n",
    "(train_data, train_labels), (test_data, test_labels) = reuters.load_data(num_words = 1000)"
   ]
  },
  {
   "cell_type": "markdown",
   "metadata": {},
   "source": [
    "### We have 8982 training examples and 2246 test examples"
   ]
  },
  {
   "cell_type": "code",
   "execution_count": 2,
   "metadata": {},
   "outputs": [
    {
     "data": {
      "text/plain": [
       "8982"
      ]
     },
     "execution_count": 2,
     "metadata": {},
     "output_type": "execute_result"
    }
   ],
   "source": [
    "len(train_data)"
   ]
  },
  {
   "cell_type": "code",
   "execution_count": 3,
   "metadata": {},
   "outputs": [
    {
     "data": {
      "text/plain": [
       "2246"
      ]
     },
     "execution_count": 3,
     "metadata": {},
     "output_type": "execute_result"
    }
   ],
   "source": [
    "len(test_data)"
   ]
  },
  {
   "cell_type": "code",
   "execution_count": 4,
   "metadata": {},
   "outputs": [
    {
     "data": {
      "text/plain": [
       "[1,\n",
       " 245,\n",
       " 273,\n",
       " 207,\n",
       " 156,\n",
       " 53,\n",
       " 74,\n",
       " 160,\n",
       " 26,\n",
       " 14,\n",
       " 46,\n",
       " 296,\n",
       " 26,\n",
       " 39,\n",
       " 74,\n",
       " 2,\n",
       " 2,\n",
       " 14,\n",
       " 46,\n",
       " 2,\n",
       " 2,\n",
       " 86,\n",
       " 61,\n",
       " 2,\n",
       " 2,\n",
       " 14,\n",
       " 61,\n",
       " 451,\n",
       " 2,\n",
       " 17,\n",
       " 12]"
      ]
     },
     "execution_count": 4,
     "metadata": {},
     "output_type": "execute_result"
    }
   ],
   "source": [
    "# each sample is a list of integers\n",
    "train_data[10]"
   ]
  },
  {
   "cell_type": "markdown",
   "metadata": {},
   "source": [
    "### we can also decode it back to words"
   ]
  },
  {
   "cell_type": "code",
   "execution_count": 5,
   "metadata": {},
   "outputs": [
    {
     "name": "stdout",
     "output_type": "stream",
     "text": [
      "Downloading data from https://s3.amazonaws.com/text-datasets/reuters_word_index.json\n",
      "557056/550378 [==============================] - 0s 1us/step\n"
     ]
    }
   ],
   "source": [
    "word_index = reuters.get_word_index()\n",
    "reverse_word_index = dict([(value, key) for (key, value) in word_index.items()])\n",
    "\n",
    "decoded_newswire = ' '.join([reverse_word_index.get(i - 3, '?') for i in train_data[0]])"
   ]
  },
  {
   "cell_type": "code",
   "execution_count": 6,
   "metadata": {},
   "outputs": [
    {
     "data": {
      "text/plain": [
       "'? ? ? said as a result of its december acquisition of ? co it expects earnings per share in 1987 of 1 15 to 1 30 dlrs per share up from 70 cts in 1986 the company said pretax net should rise to nine to 10 mln dlrs from six mln dlrs in 1986 and ? ? revenues to 19 to 22 mln dlrs from 12 5 mln dlrs it said cash ? per share this year should be 2 50 to three dlrs reuter 3'"
      ]
     },
     "execution_count": 6,
     "metadata": {},
     "output_type": "execute_result"
    }
   ],
   "source": [
    "decoded_newswire"
   ]
  },
  {
   "cell_type": "markdown",
   "metadata": {},
   "source": [
    "###  The associated label with the example is an integer between 0 and 45 (a topic index)"
   ]
  },
  {
   "cell_type": "code",
   "execution_count": 7,
   "metadata": {},
   "outputs": [
    {
     "data": {
      "text/plain": [
       "3"
      ]
     },
     "execution_count": 7,
     "metadata": {},
     "output_type": "execute_result"
    }
   ],
   "source": [
    "train_labels[10]"
   ]
  },
  {
   "cell_type": "markdown",
   "metadata": {},
   "source": [
    "## 3.5.2 Preparing the data"
   ]
  },
  {
   "cell_type": "code",
   "execution_count": 8,
   "metadata": {},
   "outputs": [],
   "source": [
    "# vectorize the data\n",
    "\n",
    "import numpy as np\n",
    "\n",
    "def vectorize_sequences(sequences, dimension = 1000):\n",
    "    results = np.zeros((len(sequences), dimension))\n",
    "    \n",
    "    for i, sequence in enumerate(sequences):\n",
    "        results[i, sequence] =1.\n",
    "        \n",
    "    return results"
   ]
  },
  {
   "cell_type": "code",
   "execution_count": 9,
   "metadata": {},
   "outputs": [],
   "source": [
    "x_train = vectorize_sequences(train_data)\n",
    "x_test = vectorize_sequences(test_data)"
   ]
  },
  {
   "cell_type": "markdown",
   "metadata": {},
   "source": [
    "### we use *one-hot* encoding (*categorical encoding*) to vectorize the labels: embed each label as an all-zeo vector with a 1 in the place of the label index: "
   ]
  },
  {
   "cell_type": "code",
   "execution_count": 10,
   "metadata": {},
   "outputs": [],
   "source": [
    "def to_one_hot(labels, dimension = 46):\n",
    "    results = np.zeros((len(labels), dimension))\n",
    "    \n",
    "    for i, label in enumerate(labels):\n",
    "        results[i, label] = 1.\n",
    "    \n",
    "    return results"
   ]
  },
  {
   "cell_type": "code",
   "execution_count": 11,
   "metadata": {},
   "outputs": [],
   "source": [
    "one_hot_train_labels = to_one_hot(train_labels)\n",
    "one_hot_test_labels = to_one_hot(test_labels)"
   ]
  },
  {
   "cell_type": "markdown",
   "metadata": {},
   "source": [
    "### Note there is a bulit-in way to do this in Keras, which we've seen it in the MNIST example"
   ]
  },
  {
   "cell_type": "code",
   "execution_count": null,
   "metadata": {},
   "outputs": [],
   "source": [
    "from keras.utils.np_utils import to_categorical\n",
    "\n",
    "one_hot_train_labels = to_categorical(train_labels)\n",
    "one_hot_test_labels = to_categorical(test_labels)"
   ]
  },
  {
   "cell_type": "markdown",
   "metadata": {},
   "source": [
    "## 3.5.3 Build the network"
   ]
  },
  {
   "cell_type": "markdown",
   "metadata": {},
   "source": [
    "### One main difference between this topic-classification problem as before is the number of output class has gone from 2 to 46, which means th dimensionality of the output space is much larger"
   ]
  },
  {
   "cell_type": "markdown",
   "metadata": {},
   "source": [
    "### In stack of *Dense* layers, each layer can only access information present in the output of the previous layer. Thus if one drops some information relevant to classification,  this information will never be recovered by later layers: each layer can potentially become an information bottleneck "
   ]
  },
  {
   "cell_type": "markdown",
   "metadata": {},
   "source": [
    "### To mitigate such effects, we use more hidden units (64) compared to before"
   ]
  },
  {
   "cell_type": "code",
   "execution_count": 12,
   "metadata": {},
   "outputs": [
    {
     "name": "stdout",
     "output_type": "stream",
     "text": [
      "WARNING:tensorflow:From /home/yanbo/.local/lib/python3.6/site-packages/tensorflow_core/python/ops/resource_variable_ops.py:1630: calling BaseResourceVariable.__init__ (from tensorflow.python.ops.resource_variable_ops) with constraint is deprecated and will be removed in a future version.\n",
      "Instructions for updating:\n",
      "If using Keras pass *_constraint arguments to layers.\n"
     ]
    }
   ],
   "source": [
    "from keras import models\n",
    "from keras import layers\n",
    "\n",
    "model = models.Sequential()\n",
    "model.add(layers.Dense(64, activation = 'relu', input_shape = (1000, )))\n",
    "model.add(layers.Dense(64, activation = 'relu'))\n",
    "model.add(layers.Dense(46, activation = 'softmax'))"
   ]
  },
  {
   "cell_type": "markdown",
   "metadata": {},
   "source": [
    "### Two things to be noticed in  this architecture:\n",
    "### 1)  The  last layer is of size 46, means for each input sample, we will output a 46-dimensional vector, in which each dimension will encode a different output class;\n",
    "### 2) The last layer uses a *softmax* activation, it means the network will output a *probability distribution* over the 46 different output classes, all of them sum to 1"
   ]
  },
  {
   "cell_type": "markdown",
   "metadata": {},
   "source": [
    "### The best loss function is *categorical_crossentropy*, which measures the distance between two probability distributions "
   ]
  },
  {
   "cell_type": "code",
   "execution_count": 13,
   "metadata": {},
   "outputs": [],
   "source": [
    "model.compile(optimizer = 'rmsprop',\n",
    "              loss = 'categorical_crossentropy',\n",
    "              metrics = ['accuracy'])"
   ]
  },
  {
   "cell_type": "markdown",
   "metadata": {},
   "source": [
    "## 3.5.4 Validating the approach"
   ]
  },
  {
   "cell_type": "code",
   "execution_count": 14,
   "metadata": {},
   "outputs": [],
   "source": [
    "# set apart 1000 samples in the training data to use as a validation set\n",
    "\n",
    "x_val = x_train[:1000]\n",
    "partial_x_train = x_train[1000:]\n",
    "\n",
    "y_val = one_hot_train_labels[:1000]\n",
    "partial_y_train = one_hot_train_labels[1000:]"
   ]
  },
  {
   "cell_type": "markdown",
   "metadata": {},
   "source": [
    "### we train the model for 20 epochs"
   ]
  },
  {
   "cell_type": "code",
   "execution_count": 15,
   "metadata": {},
   "outputs": [
    {
     "name": "stdout",
     "output_type": "stream",
     "text": [
      "WARNING:tensorflow:From /home/yanbo/.local/lib/python3.6/site-packages/keras/backend/tensorflow_backend.py:422: The name tf.global_variables is deprecated. Please use tf.compat.v1.global_variables instead.\n",
      "\n",
      "Train on 7982 samples, validate on 1000 samples\n",
      "Epoch 1/20\n",
      " - 2s - loss: 2.7640 - accuracy: 0.4649 - val_loss: 1.9299 - val_accuracy: 0.5870\n",
      "Epoch 2/20\n",
      " - 0s - loss: 1.6604 - accuracy: 0.6416 - val_loss: 1.4945 - val_accuracy: 0.6670\n",
      "Epoch 3/20\n",
      " - 0s - loss: 1.3632 - accuracy: 0.7002 - val_loss: 1.3203 - val_accuracy: 0.7110\n",
      "Epoch 4/20\n",
      " - 0s - loss: 1.1876 - accuracy: 0.7428 - val_loss: 1.2066 - val_accuracy: 0.7370\n",
      "Epoch 5/20\n",
      " - 0s - loss: 1.0751 - accuracy: 0.7657 - val_loss: 1.1345 - val_accuracy: 0.7500\n",
      "Epoch 6/20\n",
      " - 0s - loss: 0.9696 - accuracy: 0.7866 - val_loss: 1.0834 - val_accuracy: 0.7590\n",
      "Epoch 7/20\n",
      " - 0s - loss: 0.8913 - accuracy: 0.7997 - val_loss: 1.0396 - val_accuracy: 0.7740\n",
      "Epoch 8/20\n",
      " - 0s - loss: 0.8142 - accuracy: 0.8157 - val_loss: 1.0229 - val_accuracy: 0.7720\n",
      "Epoch 9/20\n",
      " - 0s - loss: 0.7518 - accuracy: 0.8255 - val_loss: 0.9758 - val_accuracy: 0.7860\n",
      "Epoch 10/20\n",
      " - 0s - loss: 0.6936 - accuracy: 0.8389 - val_loss: 0.9594 - val_accuracy: 0.8000\n",
      "Epoch 11/20\n",
      " - 0s - loss: 0.6421 - accuracy: 0.8513 - val_loss: 0.9513 - val_accuracy: 0.7830\n",
      "Epoch 12/20\n",
      " - 0s - loss: 0.6052 - accuracy: 0.8608 - val_loss: 0.9347 - val_accuracy: 0.7940\n",
      "Epoch 13/20\n",
      " - 0s - loss: 0.5597 - accuracy: 0.8708 - val_loss: 0.9346 - val_accuracy: 0.8020\n",
      "Epoch 14/20\n",
      " - 0s - loss: 0.5211 - accuracy: 0.8801 - val_loss: 0.9491 - val_accuracy: 0.7890\n",
      "Epoch 15/20\n",
      " - 0s - loss: 0.4893 - accuracy: 0.8864 - val_loss: 0.9281 - val_accuracy: 0.7940\n",
      "Epoch 16/20\n",
      " - 0s - loss: 0.4631 - accuracy: 0.8915 - val_loss: 0.9107 - val_accuracy: 0.8050\n",
      "Epoch 17/20\n",
      " - 0s - loss: 0.4258 - accuracy: 0.9017 - val_loss: 0.9221 - val_accuracy: 0.8040\n",
      "Epoch 18/20\n",
      " - 0s - loss: 0.4028 - accuracy: 0.9058 - val_loss: 0.9285 - val_accuracy: 0.7970\n",
      "Epoch 19/20\n",
      " - 0s - loss: 0.3866 - accuracy: 0.9097 - val_loss: 0.9162 - val_accuracy: 0.8100\n",
      "Epoch 20/20\n",
      " - 0s - loss: 0.3532 - accuracy: 0.9183 - val_loss: 0.9755 - val_accuracy: 0.7960\n"
     ]
    }
   ],
   "source": [
    "history = model.fit(partial_x_train, \n",
    "                    partial_y_train,\n",
    "                    epochs = 20,\n",
    "                    batch_size = 512,\n",
    "                    validation_data = (x_val, y_val),\n",
    "                    verbose = 2)"
   ]
  },
  {
   "cell_type": "markdown",
   "metadata": {},
   "source": [
    "### plot the training and validation loss"
   ]
  },
  {
   "cell_type": "code",
   "execution_count": 17,
   "metadata": {},
   "outputs": [
    {
     "data": {
      "image/png": "[encoded data removed]",
      "text/plain": [
       "<Figure size 432x288 with 1 Axes>"
      ]
     },
     "metadata": {},
     "output_type": "display_data"
    }
   ],
   "source": [
    "import matplotlib.pyplot as plt\n",
    "\n",
    "loss = history.history['loss']\n",
    "val_loss = history.history['val_loss']\n",
    "\n",
    "epochs = range(1, len(loss) + 1)\n",
    "\n",
    "plt.plot(epochs, loss, 'bo', label = 'Training loss')\n",
    "plt.plot(epochs, val_loss, 'b', label = 'Validation loss')\n",
    "plt.title('Training and validation loss')\n",
    "plt.xlabel('Epochs')\n",
    "plt.ylabel('Loss')\n",
    "plt.legend()\n",
    "\n",
    "plt.show()"
   ]
  },
  {
   "cell_type": "code",
   "execution_count": 22,
   "metadata": {},
   "outputs": [
    {
     "data": {
      "text/plain": [
       "dict_keys(['val_loss', 'val_accuracy', 'loss', 'accuracy'])"
      ]
     },
     "execution_count": 22,
     "metadata": {},
     "output_type": "execute_result"
    }
   ],
   "source": [
    "history.history.keys()"
   ]
  },
  {
   "cell_type": "markdown",
   "metadata": {},
   "source": [
    "### plot the training and validation accuracy"
   ]
  },
  {
   "cell_type": "code",
   "execution_count": 23,
   "metadata": {},
   "outputs": [
    {
     "data": {
      "image/png": "[encoded data removed]",
      "text/plain": [
       "<Figure size 432x288 with 1 Axes>"
      ]
     },
     "metadata": {},
     "output_type": "display_data"
    }
   ],
   "source": [
    "plt.clf()\n",
    "\n",
    "acc = history.history['accuracy']\n",
    "val_acc = history.history['val_accuracy']\n",
    "\n",
    "plt.plot(epochs, acc, 'bo', label = 'Training accuracy')\n",
    "plt.plot(epochs, val_acc, 'b', label = 'Validation accuracy')\n",
    "plt.title('Training and validation accuracy')\n",
    "plt.xlabel('Epochs')\n",
    "plt.ylabel('Accuracy')\n",
    "plt.legend()\n",
    "\n",
    "plt.show()"
   ]
  },
  {
   "cell_type": "markdown",
   "metadata": {},
   "source": [
    "## The network begins to overfit after 9 epochs, let's train a new network from the scratch for 9 epochs and evaluate it on the test set "
   ]
  },
  {
   "cell_type": "code",
   "execution_count": 27,
   "metadata": {},
   "outputs": [
    {
     "name": "stdout",
     "output_type": "stream",
     "text": [
      "Epoch 1/9\n",
      " - 0s - loss: 2.8483 - accuracy: 0.4493\n",
      "Epoch 2/9\n",
      " - 0s - loss: 1.6980 - accuracy: 0.6399\n",
      "Epoch 3/9\n",
      " - 0s - loss: 1.3720 - accuracy: 0.7007\n",
      "Epoch 4/9\n",
      " - 0s - loss: 1.2006 - accuracy: 0.7360\n",
      "Epoch 5/9\n",
      " - 0s - loss: 1.0736 - accuracy: 0.7631\n",
      "Epoch 6/9\n",
      " - 0s - loss: 0.9734 - accuracy: 0.7824\n",
      "Epoch 7/9\n",
      " - 0s - loss: 0.8909 - accuracy: 0.7983\n",
      "Epoch 8/9\n",
      " - 0s - loss: 0.8163 - accuracy: 0.8140\n",
      "Epoch 9/9\n",
      " - 0s - loss: 0.7486 - accuracy: 0.8315\n",
      "2246/2246 [==============================] - 0s 57us/step\n"
     ]
    }
   ],
   "source": [
    "model = models.Sequential()\n",
    "\n",
    "model.add(layers.Dense(64, activation = 'relu', input_shape = (1000, )))\n",
    "model.add(layers.Dense(64, activation = 'relu'))\n",
    "model.add(layers.Dense(46, activation = 'softmax'))\n",
    "\n",
    "model.compile(optimizer = 'rmsprop',\n",
    "              loss = 'categorical_crossentropy',\n",
    "              metrics = ['accuracy'])\n",
    "\n",
    "model.fit(partial_x_train, partial_y_train, epochs = 9, batch_size = 512, verbose = 2)\n",
    "\n",
    "results = model.evaluate(x_test, one_hot_test_labels)"
   ]
  },
  {
   "cell_type": "code",
   "execution_count": 28,
   "metadata": {},
   "outputs": [
    {
     "data": {
      "text/plain": [
       "[1.0408247585075834, 0.7644701600074768]"
      ]
     },
     "execution_count": 28,
     "metadata": {},
     "output_type": "execute_result"
    }
   ],
   "source": [
    "results"
   ]
  },
  {
   "cell_type": "markdown",
   "metadata": {},
   "source": [
    "### With a balanced binary classification problem, the accuracy reach by a purely random classifier would be 50%, and in this case it's closer to 19%, so the results from the network seems good at least compared to a random baseline"
   ]
  },
  {
   "cell_type": "code",
   "execution_count": 30,
   "metadata": {},
   "outputs": [
    {
     "data": {
      "text/plain": [
       "0.19323241317898487"
      ]
     },
     "execution_count": 30,
     "metadata": {},
     "output_type": "execute_result"
    }
   ],
   "source": [
    "import copy\n",
    "\n",
    "test_labels_copy = copy.copy(test_labels)\n",
    "np.random.shuffle(test_labels_copy)\n",
    "hits_array = np.array(test_labels) == np.array(test_labels_copy)\n",
    "\n",
    "float(np.sum(hits_array)) / len(test_labels)"
   ]
  },
  {
   "cell_type": "code",
   "execution_count": 31,
   "metadata": {},
   "outputs": [
    {
     "data": {
      "text/plain": [
       "array([ 3,  3,  3, ..., 26,  3,  4])"
      ]
     },
     "execution_count": 31,
     "metadata": {},
     "output_type": "execute_result"
    }
   ],
   "source": [
    "test_labels_copy"
   ]
  },
  {
   "cell_type": "code",
   "execution_count": 32,
   "metadata": {},
   "outputs": [
    {
     "data": {
      "text/plain": [
       "array([ True, False, False, ..., False,  True, False])"
      ]
     },
     "execution_count": 32,
     "metadata": {},
     "output_type": "execute_result"
    }
   ],
   "source": [
    "hits_array"
   ]
  },
  {
   "cell_type": "code",
   "execution_count": 34,
   "metadata": {},
   "outputs": [
    {
     "data": {
      "text/plain": [
       "1"
      ]
     },
     "execution_count": 34,
     "metadata": {},
     "output_type": "execute_result"
    }
   ],
   "source": [
    "np.sum(hits_array[0])"
   ]
  },
  {
   "cell_type": "markdown",
   "metadata": {},
   "source": [
    "## 3.5.5 Generating predictions on new data"
   ]
  },
  {
   "cell_type": "code",
   "execution_count": 35,
   "metadata": {},
   "outputs": [],
   "source": [
    "predictions = model.predict(x_test)"
   ]
  },
  {
   "cell_type": "markdown",
   "metadata": {},
   "source": [
    "### Each entry in predictions is a vector of length of 46"
   ]
  },
  {
   "cell_type": "code",
   "execution_count": 36,
   "metadata": {},
   "outputs": [
    {
     "data": {
      "text/plain": [
       "(46,)"
      ]
     },
     "execution_count": 36,
     "metadata": {},
     "output_type": "execute_result"
    }
   ],
   "source": [
    "predictions[0].shape"
   ]
  },
  {
   "cell_type": "markdown",
   "metadata": {},
   "source": [
    "### The coefficients in this vector sums to 1 (probability distribution)"
   ]
  },
  {
   "cell_type": "code",
   "execution_count": 38,
   "metadata": {},
   "outputs": [
    {
     "data": {
      "text/plain": [
       "0.9999999"
      ]
     },
     "execution_count": 38,
     "metadata": {},
     "output_type": "execute_result"
    }
   ],
   "source": [
    "np.sum(predictions[1])"
   ]
  },
  {
   "cell_type": "markdown",
   "metadata": {},
   "source": [
    "### The largest entry is the predicted class -- ths class with the highest probability"
   ]
  },
  {
   "cell_type": "code",
   "execution_count": 39,
   "metadata": {},
   "outputs": [
    {
     "data": {
      "text/plain": [
       "3"
      ]
     },
     "execution_count": 39,
     "metadata": {},
     "output_type": "execute_result"
    }
   ],
   "source": [
    "np.argmax(predictions[0])"
   ]
  },
  {
   "cell_type": "markdown",
   "metadata": {},
   "source": [
    "## 3.5.6 A different way to encode the labels"
   ]
  },
  {
   "cell_type": "markdown",
   "metadata": {},
   "source": [
    "### Besides the categorical encoding, we can also cast the labels as integer tensors"
   ]
  },
  {
   "cell_type": "code",
   "execution_count": null,
   "metadata": {},
   "outputs": [],
   "source": [
    "y_train = np.array(train_labels)\n",
    "y_test = np.array(test_labels)"
   ]
  },
  {
   "cell_type": "markdown",
   "metadata": {},
   "source": [
    "### The only thing this approach would change is the choice of the loss function: *categorical_crossentropy* expects the labels to follow a categorical encoding;\n",
    "### With integer labels, we should use *sparse_categorical_crossentropy*"
   ]
  },
  {
   "cell_type": "code",
   "execution_count": null,
   "metadata": {},
   "outputs": [],
   "source": [
    "model.compile(optimizer = 'rmsprop',\n",
    "              loss = 'sparse_categorical_crossentropy',\n",
    "              metrics = ['acc'])"
   ]
  },
  {
   "cell_type": "markdown",
   "metadata": {},
   "source": [
    "## 3.5.7 The importance of having sufficiently large intermediate layers"
   ]
  },
  {
   "cell_type": "markdown",
   "metadata": {},
   "source": [
    "### We mentioned earlier that since the final outputs are 46-dimensional, we should *avoid* intermediate layers with fewer than 46 hidden units;\n",
    "### Let's see what happens when you introduce an information bottleneck by have intermediate layers that are significantly less than 46-dimensional:  e.g. 4-dimensional"
   ]
  },
  {
   "cell_type": "code",
   "execution_count": 40,
   "metadata": {},
   "outputs": [
    {
     "name": "stdout",
     "output_type": "stream",
     "text": [
      "Epoch 1/20\n",
      " - 0s - loss: 3.1663 - accuracy: 0.2938\n",
      "Epoch 2/20\n",
      " - 0s - loss: 2.2955 - accuracy: 0.3763\n",
      "Epoch 3/20\n",
      " - 0s - loss: 1.9165 - accuracy: 0.4267\n",
      "Epoch 4/20\n",
      " - 0s - loss: 1.6149 - accuracy: 0.5252\n",
      "Epoch 5/20\n",
      " - 0s - loss: 1.4142 - accuracy: 0.6713\n",
      "Epoch 6/20\n",
      " - 0s - loss: 1.2983 - accuracy: 0.6873\n",
      "Epoch 7/20\n",
      " - 0s - loss: 1.2152 - accuracy: 0.7045\n",
      "Epoch 8/20\n",
      " - 0s - loss: 1.1515 - accuracy: 0.7195\n",
      "Epoch 9/20\n",
      " - 0s - loss: 1.1013 - accuracy: 0.7299\n",
      "Epoch 10/20\n",
      " - 0s - loss: 1.0599 - accuracy: 0.7393\n",
      "Epoch 11/20\n",
      " - 0s - loss: 1.0238 - accuracy: 0.7443\n",
      "Epoch 12/20\n",
      " - 0s - loss: 0.9927 - accuracy: 0.7499\n",
      "Epoch 13/20\n",
      " - 0s - loss: 0.9674 - accuracy: 0.7560\n",
      "Epoch 14/20\n",
      " - 0s - loss: 0.9436 - accuracy: 0.7655\n",
      "Epoch 15/20\n",
      " - 0s - loss: 0.9214 - accuracy: 0.7734\n",
      "Epoch 16/20\n",
      " - 0s - loss: 0.9016 - accuracy: 0.7788\n",
      "Epoch 17/20\n",
      " - 0s - loss: 0.8820 - accuracy: 0.7831\n",
      "Epoch 18/20\n",
      " - 0s - loss: 0.8631 - accuracy: 0.7856\n",
      "Epoch 19/20\n",
      " - 0s - loss: 0.8488 - accuracy: 0.7895\n",
      "Epoch 20/20\n",
      " - 0s - loss: 0.8321 - accuracy: 0.7928\n",
      "2246/2246 [==============================] - 0s 67us/step\n"
     ]
    }
   ],
   "source": [
    "model = models.Sequential()\n",
    "\n",
    "model.add(layers.Dense(64, activation = 'relu', input_shape = (1000, )))\n",
    "model.add(layers.Dense(4, activation = 'relu'))\n",
    "model.add(layers.Dense(46, activation = 'softmax'))\n",
    "\n",
    "model.compile(optimizer = 'rmsprop',\n",
    "              loss = 'categorical_crossentropy',\n",
    "              metrics = ['accuracy'])\n",
    "\n",
    "model.fit(partial_x_train, partial_y_train, epochs = 20, batch_size = 128, verbose = 2)\n",
    "\n",
    "results = model.evaluate(x_test, one_hot_test_labels)"
   ]
  },
  {
   "cell_type": "code",
   "execution_count": 41,
   "metadata": {},
   "outputs": [
    {
     "data": {
      "text/plain": [
       "[1.3273533976513259, 0.7043632864952087]"
      ]
     },
     "execution_count": 41,
     "metadata": {},
     "output_type": "execute_result"
    }
   ],
   "source": [
    "results"
   ]
  },
  {
   "cell_type": "markdown",
   "metadata": {},
   "source": [
    "### The accuracy drops, mainly due to the fact that you' re trying to compress a lot of information (enough information to recover the separation hyperplanes of 46 classes) into an intermediate space that is too low-dimensional."
   ]
  },
  {
   "cell_type": "code",
   "execution_count": null,
   "metadata": {},
   "outputs": [],
   "source": []
  }
 ],
 "metadata": {
  "kernelspec": {
   "display_name": "Python 3",
   "language": "python",
   "name": "python3"
  },
  "language_info": {
   "codemirror_mode": {
    "name": "ipython",
    "version": 3
   },
   "file_extension": ".py",
   "mimetype": "text/x-python",
   "name": "python",
   "nbconvert_exporter": "python",
   "pygments_lexer": "ipython3",
   "version": "3.6.9"
  }
 },
 "nbformat": 4,
 "nbformat_minor": 2
}

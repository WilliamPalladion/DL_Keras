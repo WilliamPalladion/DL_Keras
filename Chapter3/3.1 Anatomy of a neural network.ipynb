{
 "cells": [
  {
   "cell_type": "markdown",
   "metadata": {},
   "source": [
    "# 3.1 Anatomy of  a neural network"
   ]
  },
  {
   "cell_type": "markdown",
   "metadata": {},
   "source": [
    "### training a neural network revolves around the following objects:\n",
    "\n",
    "### 1) Layers,  which are combined into a network(or model)\n",
    "### 2) input data & targets\n",
    "### 3) loss function, defines the feedback signal for learning \n",
    "### 4) optimizer, determines  how learning proceeds"
   ]
  },
  {
   "cell_type": "markdown",
   "metadata": {},
   "source": [
    "## 3.1.1 Layers"
   ]
  },
  {
   "cell_type": "markdown",
   "metadata": {},
   "source": [
    "### A layer is a data-processing module that takes as input one or more tensors and that outputs one or more tensors;"
   ]
  },
  {
   "cell_type": "markdown",
   "metadata": {},
   "source": [
    "### Layers compatibility"
   ]
  },
  {
   "cell_type": "code",
   "execution_count": null,
   "metadata": {},
   "outputs": [],
   "source": [
    "from keras import layers \n",
    "\n",
    "layer = layers.Dense(32, input_shape = (784, ))"
   ]
  },
  {
   "cell_type": "markdown",
   "metadata": {},
   "source": [
    "### We  create a layer that only accept as input 2D tensors where the first dimension is 784 (axis 0, the batch dimension is unspecified, thus any value is accepted) \n",
    "### The layer will return a tensor where the first dimension has been transformed into 32, thus it will be connected to a downstream layer that expects 32-dimensional vectors as its input"
   ]
  },
  {
   "cell_type": "markdown",
   "metadata": {},
   "source": [
    "### When using Keras, the layers added are dynamically built to match the shape of the incoming layer"
   ]
  },
  {
   "cell_type": "code",
   "execution_count": null,
   "metadata": {},
   "outputs": [],
   "source": [
    "# for example\n",
    "from keras import models\n",
    "from keras import layers\n",
    "\n",
    "model = models.Sequential()\n",
    "model.add(layers.Dense(32, input_shape = (784, )))\n",
    "model.add(layers.Dense(32))"
   ]
  },
  {
   "cell_type": "markdown",
   "metadata": {},
   "source": [
    "### The second layer didn't receive an input shape argument --- instead, it automatically inferred its input shape as being the output shape of the layer that came before."
   ]
  },
  {
   "cell_type": "code",
   "execution_count": null,
   "metadata": {},
   "outputs": [],
   "source": []
  }
 ],
 "metadata": {
  "kernelspec": {
   "display_name": "Python 3",
   "language": "python",
   "name": "python3"
  },
  "language_info": {
   "codemirror_mode": {
    "name": "ipython",
    "version": 3
   },
   "file_extension": ".py",
   "mimetype": "text/x-python",
   "name": "python",
   "nbconvert_exporter": "python",
   "pygments_lexer": "ipython3",
   "version": "3.6.9"
  }
 },
 "nbformat": 4,
 "nbformat_minor": 2
}

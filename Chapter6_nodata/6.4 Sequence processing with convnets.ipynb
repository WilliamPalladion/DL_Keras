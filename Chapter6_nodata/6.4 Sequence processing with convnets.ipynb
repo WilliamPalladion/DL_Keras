{
 "cells": [
  {
   "cell_type": "markdown",
   "metadata": {},
   "source": [
    "# 6.4 Sequence processing with convnets"
   ]
  },
  {
   "cell_type": "markdown",
   "metadata": {},
   "source": [
    "In chapter 5, we learned about convolutional neural networks (convnets) and how they perform particularly well on computer vision problems, due to their ability to **operate convolutionally, extracting features from local input patches and allowing for representation modularity and data efficiency**. \n",
    "\n",
    "The same properties that make convnets excel at computer vision also make them highly relevant to sequence processing. **Time can be treated as a spatial dimension, like the height or width of a 2D image**.\n",
    "\n",
    "Such 1D convnets can be competitive with RNNs on certain sequence-processing problems, usually at a **considerably cheaper computational cost**. It has long been known that **small 1D convnets can offer a fast alternative to RNN s for simple tasks such as text classification and timeseries forecasting**."
   ]
  },
  {
   "cell_type": "markdown",
   "metadata": {},
   "source": [
    "## 6.4.1 Understanding 1D convolution for sequence data"
   ]
  },
  {
   "cell_type": "markdown",
   "metadata": {},
   "source": [
    "The convolutional layers introduced before were **2D convolutions**, extracting 2D patches from image tensors and applying an identical transformation to every patch.\n",
    "\n",
    "In the same way, we can use **1D convolutions: extracting local 1D patches (sub-sequence) from sequences**.\n",
    "\n",
    "### Such 1D convolution layers can recognize local patterns in a sequence.\n",
    "Because the same input transformation is performed on every patch, **a pattern learned at a certain position in a sequence can later be recognized at a different position, making 1D convnets translation invariant(for temporal translations)**"
   ]
  },
  {
   "cell_type": "markdown",
   "metadata": {},
   "source": [
    "## 6.4.2 1D pooling for sequence data"
   ]
  },
  {
   "cell_type": "markdown",
   "metadata": {},
   "source": [
    "We have been familiar with 2D pooling operations: such as 2D average pooling and max pooling, used in convnets to **spatically downsample image tensors**.\n",
    "\n",
    "The 2D pooling operation has a 1D equivalent: **extracting 1D patches(sub-sequences) from an input and outputting the maximum value(max pooling) or average value(average pooling)**. Just as with 2D convnets, this is used for reducing the length of 1D inputs(**sub-sampling**)."
   ]
  },
  {
   "cell_type": "markdown",
   "metadata": {},
   "source": [
    "## 6.4.3 Implementing a 1D convnet"
   ]
  },
  {
   "cell_type": "markdown",
   "metadata": {},
   "source": [
    "In Keras, We use a 1D convnet via the **Conv1D** layer. It takes as input 3D tensors with shape **(samples, time, features)** and returns similarly shaped 3D tensors. **The convolutional window is a 1D window on the temporal axis: axis 1 in the input tensor**.\n",
    "\n",
    "### We build a simple two-layer 1D convnet and apply it to the IMDB sentiment-classification task."
   ]
  },
  {
   "cell_type": "code",
   "execution_count": 2,
   "metadata": {},
   "outputs": [
    {
     "name": "stderr",
     "output_type": "stream",
     "text": [
      "Using TensorFlow backend.\n"
     ]
    },
    {
     "name": "stdout",
     "output_type": "stream",
     "text": [
      "Loading data...\n",
      "25000 train sequences\n",
      "25000 test sequences\n",
      "Pad sequences (samples x time)\n",
      "x_train shape: (25000, 500)\n",
      "x_test shape: (25000, 500)\n"
     ]
    }
   ],
   "source": [
    "# prepare the data\n",
    "from keras.datasets import imdb\n",
    "from keras.preprocessing import sequence\n",
    "\n",
    "max_features = 10000\n",
    "max_len = 500\n",
    "\n",
    "print('Loading data...')\n",
    "(x_train, y_train), (x_test, y_test) = imdb.load_data(num_words=max_features)\n",
    "\n",
    "print(len(x_train), 'train sequences')\n",
    "print(len(x_test), 'test sequences')\n",
    "\n",
    "print('Pad sequences (samples x time)')\n",
    "x_train = sequence.pad_sequences(x_train, maxlen=max_len)\n",
    "x_test = sequence.pad_sequences(x_test, maxlen=max_len)\n",
    "\n",
    "print('x_train shape:', x_train.shape)\n",
    "print('x_test shape:', x_test.shape)"
   ]
  },
  {
   "cell_type": "markdown",
   "metadata": {},
   "source": [
    "1D convnets are structured in the same way as their 2D counterparts, consisting of **a stack of Conv1D and MaxPooling1D layers, ending in either a global pooling layer or a Flatten layer, that turn the 3D outputs into 2D outputs, allowing you to add one or more Dense layers to the model for classification or regression**.\n",
    "\n",
    "### One difference, though, is the fact that you can afford to use larger convolution windows with 1D convnets. \n",
    "\n",
    "With a 2D convolution layer, a 3 × 3 convolution window contains 3 × 3 = 9 feature vectors; but with a 1D convolution layer, a convolution window of size 3 contains only 3 feature vectors. You can thus easily afford 1D convolution windows of size 7 or 9."
   ]
  },
  {
   "cell_type": "code",
   "execution_count": 3,
   "metadata": {},
   "outputs": [
    {
     "name": "stderr",
     "output_type": "stream",
     "text": [
      "WARNING: Logging before flag parsing goes to stderr.\n",
      "W0712 18:37:07.239779 139971567470336 deprecation_wrapper.py:119] From /usr/local/miniconda3/envs/dl/lib/python3.6/site-packages/keras/backend/tensorflow_backend.py:74: The name tf.get_default_graph is deprecated. Please use tf.compat.v1.get_default_graph instead.\n",
      "\n",
      "W0712 18:37:07.264347 139971567470336 deprecation_wrapper.py:119] From /usr/local/miniconda3/envs/dl/lib/python3.6/site-packages/keras/backend/tensorflow_backend.py:517: The name tf.placeholder is deprecated. Please use tf.compat.v1.placeholder instead.\n",
      "\n",
      "W0712 18:37:07.268818 139971567470336 deprecation_wrapper.py:119] From /usr/local/miniconda3/envs/dl/lib/python3.6/site-packages/keras/backend/tensorflow_backend.py:4138: The name tf.random_uniform is deprecated. Please use tf.random.uniform instead.\n",
      "\n",
      "W0712 18:37:07.323707 139971567470336 deprecation_wrapper.py:119] From /usr/local/miniconda3/envs/dl/lib/python3.6/site-packages/keras/backend/tensorflow_backend.py:3976: The name tf.nn.max_pool is deprecated. Please use tf.nn.max_pool2d instead.\n",
      "\n"
     ]
    },
    {
     "name": "stdout",
     "output_type": "stream",
     "text": [
      "_________________________________________________________________\n",
      "Layer (type)                 Output Shape              Param #   \n",
      "=================================================================\n",
      "embedding_1 (Embedding)      (None, 500, 128)          1280000   \n",
      "_________________________________________________________________\n",
      "conv1d_1 (Conv1D)            (None, 494, 32)           28704     \n",
      "_________________________________________________________________\n",
      "max_pooling1d_1 (MaxPooling1 (None, 98, 32)            0         \n",
      "_________________________________________________________________\n",
      "conv1d_2 (Conv1D)            (None, 92, 32)            7200      \n",
      "_________________________________________________________________\n",
      "global_max_pooling1d_1 (Glob (None, 32)                0         \n",
      "_________________________________________________________________\n",
      "dense_1 (Dense)              (None, 1)                 33        \n",
      "=================================================================\n",
      "Total params: 1,315,937\n",
      "Trainable params: 1,315,937\n",
      "Non-trainable params: 0\n",
      "_________________________________________________________________\n"
     ]
    }
   ],
   "source": [
    "from keras.models import Sequential\n",
    "from keras import layers\n",
    "from keras.optimizers import RMSprop\n",
    "\n",
    "model = Sequential()\n",
    "model.add(layers.Embedding(max_features, 128, input_length = max_len))\n",
    "model.add(layers.Conv1D(32, 7,  activation = 'relu'))\n",
    "model.add(layers.MaxPooling1D(5))\n",
    "\n",
    "model.add(layers.Conv1D(32, 7, activation = 'relu'))\n",
    "model.add(layers.GlobalMaxPooling1D())\n",
    "model.add(layers.Dense(1))\n",
    "\n",
    "model.summary()"
   ]
  },
  {
   "cell_type": "code",
   "execution_count": 4,
   "metadata": {},
   "outputs": [
    {
     "name": "stderr",
     "output_type": "stream",
     "text": [
      "W0712 18:37:09.613224 139971567470336 deprecation_wrapper.py:119] From /usr/local/miniconda3/envs/dl/lib/python3.6/site-packages/keras/optimizers.py:790: The name tf.train.Optimizer is deprecated. Please use tf.compat.v1.train.Optimizer instead.\n",
      "\n",
      "W0712 18:37:09.624810 139971567470336 deprecation_wrapper.py:119] From /usr/local/miniconda3/envs/dl/lib/python3.6/site-packages/keras/backend/tensorflow_backend.py:3376: The name tf.log is deprecated. Please use tf.math.log instead.\n",
      "\n",
      "W0712 18:37:09.634527 139971567470336 deprecation.py:323] From /usr/local/miniconda3/envs/dl/lib/python3.6/site-packages/tensorflow/python/ops/nn_impl.py:180: add_dispatch_support.<locals>.wrapper (from tensorflow.python.ops.array_ops) is deprecated and will be removed in a future version.\n",
      "Instructions for updating:\n",
      "Use tf.where in 2.0, which has the same broadcast rule as np.where\n"
     ]
    }
   ],
   "source": [
    "model.compile(optimizer = RMSprop(lr=1e-4),\n",
    "              loss = 'binary_crossentropy',\n",
    "              metrics = ['acc'])"
   ]
  },
  {
   "cell_type": "code",
   "execution_count": 5,
   "metadata": {},
   "outputs": [
    {
     "name": "stderr",
     "output_type": "stream",
     "text": [
      "W0712 18:37:12.885563 139971567470336 deprecation_wrapper.py:119] From /usr/local/miniconda3/envs/dl/lib/python3.6/site-packages/keras/backend/tensorflow_backend.py:986: The name tf.assign_add is deprecated. Please use tf.compat.v1.assign_add instead.\n",
      "\n"
     ]
    },
    {
     "name": "stdout",
     "output_type": "stream",
     "text": [
      "Train on 20000 samples, validate on 5000 samples\n",
      "Epoch 1/10\n",
      "20000/20000 [==============================] - 16s 788us/step - loss: 0.8337 - acc: 0.5094 - val_loss: 0.6874 - val_acc: 0.5638\n",
      "Epoch 2/10\n",
      "20000/20000 [==============================] - 2s 105us/step - loss: 0.6699 - acc: 0.6386 - val_loss: 0.6642 - val_acc: 0.6572\n",
      "Epoch 3/10\n",
      "20000/20000 [==============================] - 2s 103us/step - loss: 0.6236 - acc: 0.7531 - val_loss: 0.6080 - val_acc: 0.7430\n",
      "Epoch 4/10\n",
      "20000/20000 [==============================] - 2s 101us/step - loss: 0.5258 - acc: 0.8078 - val_loss: 0.4846 - val_acc: 0.8062\n",
      "Epoch 5/10\n",
      "20000/20000 [==============================] - 2s 103us/step - loss: 0.4095 - acc: 0.8491 - val_loss: 0.4315 - val_acc: 0.8302\n",
      "Epoch 6/10\n",
      "20000/20000 [==============================] - 2s 105us/step - loss: 0.3473 - acc: 0.8670 - val_loss: 0.4152 - val_acc: 0.8346\n",
      "Epoch 7/10\n",
      "20000/20000 [==============================] - 2s 103us/step - loss: 0.3074 - acc: 0.8648 - val_loss: 0.4254 - val_acc: 0.8262\n",
      "Epoch 8/10\n",
      "20000/20000 [==============================] - 2s 105us/step - loss: 0.2761 - acc: 0.8566 - val_loss: 0.4308 - val_acc: 0.8064\n",
      "Epoch 9/10\n",
      "20000/20000 [==============================] - 2s 106us/step - loss: 0.2529 - acc: 0.8311 - val_loss: 0.4462 - val_acc: 0.7874\n",
      "Epoch 10/10\n",
      "20000/20000 [==============================] - 2s 105us/step - loss: 0.2286 - acc: 0.8148 - val_loss: 0.5009 - val_acc: 0.7518\n"
     ]
    }
   ],
   "source": [
    "history = model.fit(x_train, y_train,\n",
    "                    epochs = 10,\n",
    "                    batch_size = 128,\n",
    "                    validation_split = 0.2)"
   ]
  },
  {
   "cell_type": "code",
   "execution_count": 7,
   "metadata": {},
   "outputs": [
    {
     "data": {
      "image/png": "[encoded data removed]",
      "text/plain": [
       "<Figure size 432x288 with 1 Axes>"
      ]
     },
     "metadata": {
      "needs_background": "light"
     },
     "output_type": "display_data"
    },
    {
     "data": {
      "image/png": "[encoded data removed]",
      "text/plain": [
       "<Figure size 432x288 with 1 Axes>"
      ]
     },
     "metadata": {
      "needs_background": "light"
     },
     "output_type": "display_data"
    }
   ],
   "source": [
    "import matplotlib.pyplot as plt\n",
    "\n",
    "acc = history.history['acc']\n",
    "val_acc = history.history['val_acc']\n",
    "loss = history.history['loss']\n",
    "val_loss = history.history['val_loss']\n",
    "\n",
    "epochs = range(1, len(acc) + 1)\n",
    "\n",
    "plt.plot(epochs, acc, 'bo', label='Training acc')\n",
    "plt.plot(epochs, val_acc, 'b', label='Validation acc')\n",
    "plt.title('Training and validation accuracy')\n",
    "plt.legend()\n",
    "\n",
    "plt.figure()\n",
    "\n",
    "plt.plot(epochs, loss, 'bo', label='Training loss')\n",
    "plt.plot(epochs, val_loss, 'b', label='Validation loss')\n",
    "plt.title('Training and validation loss')\n",
    "plt.legend()\n",
    "\n",
    "plt.show()"
   ]
  },
  {
   "cell_type": "markdown",
   "metadata": {},
   "source": [
    "### Validation accuracy is somewhat less than that of LSTM, but runtime is faster on 1D Convnets, at this point we could retrain the model for the number of epochs (8) and run it on the test set.\n",
    "\n",
    "This is a convincing demonstration that a 1D convnet can offer a fast, cheap alternative to a recurrent network on a word-level sentiment classification task."
   ]
  },
  {
   "cell_type": "markdown",
   "metadata": {},
   "source": [
    "## 6.4.4 Combine CNNs and RNNs to process long sequences"
   ]
  },
  {
   "cell_type": "markdown",
   "metadata": {},
   "source": [
    "Because 1D convnets process input patches independently, they are **not sensitive to the order of the timesteps (beyond a local scale, the size of the convolutional windows)**, unlike RNNs.\n",
    "\n",
    "Of course, to recognize longer-term patterns, you can stack many convolutional and pooling layers, **resulting in upper layers will see long chunks of the original inputs** --- but that's still a weak way to induce order sensitivity.\n",
    "\n",
    "### One way to evidence this weakness is to try 1D convnets on the temperature-forecasting problem, where order-sensitivity is key to producing good predictions. We first reload the variables defined before:"
   ]
  },
  {
   "cell_type": "code",
   "execution_count": 8,
   "metadata": {},
   "outputs": [],
   "source": [
    "import os \n",
    "import numpy as np\n",
    "\n",
    "data_dir = '/input'\n",
    "fname = os.path.join(data_dir, 'jena_climate_2009_2016.csv')\n",
    "\n",
    "f = open(fname)\n",
    "data = f.read()\n",
    "f.close()\n",
    "\n",
    "lines = data.split('\\n')\n",
    "header = lines[0].split(',')\n",
    "lines = lines[1:]\n",
    "\n",
    "float_data = np.zeros((len(lines), len(header) - 1))\n",
    "\n",
    "for i, line in enumerate(lines):\n",
    "    values = [float(x) for x in line.split(',')[1:]]\n",
    "    float_data[i, :] = values\n",
    "    \n",
    "# normalization\n",
    "mean = float_data[:200000].mean(axis = 0)\n",
    "std = float_data[:200000].std(axis = 0)\n",
    "\n",
    "float_data -= mean\n",
    "float_data /= std"
   ]
  },
  {
   "cell_type": "code",
   "execution_count": 9,
   "metadata": {},
   "outputs": [],
   "source": [
    "def generator(data, lookback,  delay, min_index, max_index,\n",
    "              shuffle = False, batch_size = 128, step = 6):\n",
    "    \n",
    "    if max_index is None:\n",
    "        max_index = len(data) - delay - 1\n",
    "    \n",
    "    i = min_index + lookback\n",
    "    while 1:\n",
    "        if shuffle:\n",
    "            rows = np.random.randint(min_index + lookback, max_index, size = batch_size)\n",
    "        else:\n",
    "            if i + batch_size >= max_index:\n",
    "                i = min_index + lookback\n",
    "            rows = np.arange(i, min(i + batch_size, max_index))\n",
    "            i += len(rows)\n",
    "        \n",
    "        samples = np.zeros((len(rows), lookback // step, data.shape[-1]))\n",
    "        targets = np.zeros((len(rows), ))\n",
    "        \n",
    "        for j, row in enumerate(rows):\n",
    "            indices = range(rows[j] - lookback, rows[j], step)\n",
    "            samples[j] = data[indices]\n",
    "            targets[j] = data[rows[j] + delay][1]\n",
    "        \n",
    "        yield samples, targets"
   ]
  },
  {
   "cell_type": "code",
   "execution_count": 10,
   "metadata": {},
   "outputs": [],
   "source": [
    "lookback = 720\n",
    "step = 6\n",
    "delay = 144\n",
    "batch_size = 128\n",
    "\n",
    "train_gen = generator(float_data, lookback = lookback, delay = delay,\n",
    "                      min_index = 0, max_index = 200000, shuffle = True, step = step, batch_size = batch_size)\n",
    "\n",
    "val_gen = generator(float_data, lookback = lookback, delay = delay,\n",
    "                      min_index = 200001, max_index = 300000, shuffle = True, step = step, batch_size = batch_size)\n",
    "\n",
    "test_gen = generator(float_data, lookback = lookback, delay = delay,\n",
    "                      min_index = 300000, max_index = None, shuffle = True, step = step, batch_size = batch_size)\n",
    "\n",
    "val_steps = (300000 - 200001 - lookback) // 128 # How many steps to draw from val_gen in order to see the entire val_set\n",
    "test_steps = (len(float_data) - 300001 - lookback) // 128"
   ]
  },
  {
   "cell_type": "code",
   "execution_count": 11,
   "metadata": {},
   "outputs": [],
   "source": [
    "from keras.models import Sequential\n",
    "from keras import layers\n",
    "from keras.optimizers import RMSprop\n",
    "\n",
    "model = Sequential()\n",
    "model.add(layers.Conv1D(32, 5, activation = 'relu',\n",
    "                        input_shape = (None, float_data.shape[-1])))\n",
    "model.add(layers.MaxPooling1D(3))\n",
    "\n",
    "model.add(layers.Conv1D(32, 5, activation = 'relu'))\n",
    "model.add(layers.MaxPooling1D(3))\n",
    "model.add(layers.Conv1D(32, 5, activation = 'relu'))\n",
    "model.add(layers.GlobalMaxPooling1D())\n",
    "model.add(layers.Dense(1))"
   ]
  },
  {
   "cell_type": "code",
   "execution_count": 12,
   "metadata": {},
   "outputs": [],
   "source": [
    "model.compile(optimizer = RMSprop(), loss = 'mae')"
   ]
  },
  {
   "cell_type": "code",
   "execution_count": 13,
   "metadata": {},
   "outputs": [
    {
     "name": "stdout",
     "output_type": "stream",
     "text": [
      "Epoch 1/20\n",
      "500/500 [==============================] - 14s 28ms/step - loss: 0.3963 - val_loss: 0.3825\n",
      "Epoch 2/20\n",
      "500/500 [==============================] - 14s 27ms/step - loss: 0.3343 - val_loss: 0.4270\n",
      "Epoch 3/20\n",
      "500/500 [==============================] - 14s 27ms/step - loss: 0.3021 - val_loss: 0.3912\n",
      "Epoch 4/20\n",
      "500/500 [==============================] - 13s 26ms/step - loss: 0.2801 - val_loss: 0.4235\n",
      "Epoch 5/20\n",
      "500/500 [==============================] - 13s 26ms/step - loss: 0.2672 - val_loss: 0.4143\n",
      "Epoch 6/20\n",
      "500/500 [==============================] - 13s 26ms/step - loss: 0.2557 - val_loss: 0.3946\n",
      "Epoch 7/20\n",
      "500/500 [==============================] - 13s 26ms/step - loss: 0.2470 - val_loss: 0.4197\n",
      "Epoch 8/20\n",
      "500/500 [==============================] - 13s 27ms/step - loss: 0.2393 - val_loss: 0.3910\n",
      "Epoch 9/20\n",
      "500/500 [==============================] - 13s 27ms/step - loss: 0.2327 - val_loss: 0.3983\n",
      "Epoch 10/20\n",
      "500/500 [==============================] - 14s 27ms/step - loss: 0.2281 - val_loss: 0.4017\n",
      "Epoch 11/20\n",
      "500/500 [==============================] - 13s 26ms/step - loss: 0.2241 - val_loss: 0.4010\n",
      "Epoch 12/20\n",
      "500/500 [==============================] - 13s 27ms/step - loss: 0.2182 - val_loss: 0.3966\n",
      "Epoch 13/20\n",
      "500/500 [==============================] - 13s 26ms/step - loss: 0.2159 - val_loss: 0.3932\n",
      "Epoch 14/20\n",
      "500/500 [==============================] - 14s 27ms/step - loss: 0.2116 - val_loss: 0.3906\n",
      "Epoch 15/20\n",
      "500/500 [==============================] - 13s 27ms/step - loss: 0.2088 - val_loss: 0.4041\n",
      "Epoch 16/20\n",
      "500/500 [==============================] - 14s 28ms/step - loss: 0.2070 - val_loss: 0.3919\n",
      "Epoch 17/20\n",
      "500/500 [==============================] - 13s 27ms/step - loss: 0.2023 - val_loss: 0.3943\n",
      "Epoch 18/20\n",
      "500/500 [==============================] - 14s 27ms/step - loss: 0.2015 - val_loss: 0.3932\n",
      "Epoch 19/20\n",
      "500/500 [==============================] - 13s 26ms/step - loss: 0.1979 - val_loss: 0.3936\n",
      "Epoch 20/20\n",
      "500/500 [==============================] - 13s 26ms/step - loss: 0.1978 - val_loss: 0.3973\n"
     ]
    }
   ],
   "source": [
    "history = model.fit_generator(train_gen,\n",
    "                              steps_per_epoch = 500,\n",
    "                              epochs = 20,\n",
    "                              validation_data = val_gen,\n",
    "                              validation_steps = val_steps)"
   ]
  },
  {
   "cell_type": "code",
   "execution_count": 14,
   "metadata": {},
   "outputs": [
    {
     "data": {
      "image/png": "[encoded data removed]",
      "text/plain": [
       "<Figure size 432x288 with 1 Axes>"
      ]
     },
     "metadata": {
      "needs_background": "light"
     },
     "output_type": "display_data"
    }
   ],
   "source": [
    "import matplotlib.pyplot as plt\n",
    "\n",
    "loss = history.history['loss']\n",
    "val_loss = history.history['val_loss']\n",
    "\n",
    "epochs = range(1, len(loss) + 1)\n",
    "\n",
    "plt.figure()\n",
    "plt.plot(epochs, loss, 'bo', label='Training loss')\n",
    "plt.plot(epochs, val_loss, 'b', label='Validation loss')\n",
    "plt.title('Training and validation loss')\n",
    "plt.legend()\n",
    "\n",
    "plt.show()"
   ]
  },
  {
   "cell_type": "markdown",
   "metadata": {},
   "source": [
    "The validation MAE stays in the 0.40s: you can't even beat the common-sense baseline using the small convnet.\n",
    "\n",
    "Again, this is because the convnet looks for **patterns anywhere in the input timeseries and has no knowledge of the temporal position of a pattern it sees (toward the beginning, toward the end, and so on)**. Because more recent\n",
    "data points should be interpreted differently from older data points in the case of this specific forecasting problem, the convnet fails at producing meaningful results. \n",
    "\n",
    "This limitation of convnets isn’t an issue with the IMDB data, because patterns of keywords associated with a positive or negative sentiment are informative independently of their positions in the input sentences.\n",
    "\n",
    "### One strategy to combine the speed & lightness of convnets with the order-sensitivity of RNNs is to use a 1D convnet as a preprocessing step before an RNN.\n",
    "\n",
    "This is especially beneficial when dealing with sequences that are so long they can’t realistically be processed with RNNs, such as sequences with thousands of steps. **The convnet will turn the long input sequence into much shorter (downsampled) sequences of higher-level features. This sequence of extracted features then becomes the input to the RNN part of the network**.\n",
    "\n",
    "Let's try this technique on the temperature-forecasting dataset. Because this strategy allows you to manipulate much longer sequences, we can either**look at data from longer ago(increase lookback parameter)** or **look at high-resolution timeseries(decrease step parameter)**.\n",
    "\n",
    "Here we half the step parameter to 3, meaning the temperature data is sampled at a rate of 1 point 30 minutes, to obtain a timeseries twice long. "
   ]
  },
  {
   "cell_type": "code",
   "execution_count": 15,
   "metadata": {},
   "outputs": [],
   "source": [
    "step = 3\n",
    "lookback = 720\n",
    "delay = 144\n",
    "\n",
    "train_gen = generator(float_data,\n",
    "                      lookback=lookback,\n",
    "                      delay=delay,\n",
    "                      min_index=0,\n",
    "                      max_index=200000,\n",
    "                      shuffle=True,\n",
    "                      step=step)\n",
    "\n",
    "val_gen = generator(float_data,\n",
    "                    lookback=lookback,\n",
    "                    delay=delay,\n",
    "                    min_index=200001,\n",
    "                    max_index=300000,\n",
    "                    step=step)\n",
    "\n",
    "test_gen = generator(float_data,\n",
    "                     lookback=lookback,\n",
    "                     delay=delay,\n",
    "                     min_index=300001,\n",
    "                     max_index=None,\n",
    "                     step=step)\n",
    "\n",
    "val_steps = (300000 - 200001 - lookback) // 128\n",
    "test_steps = (len(float_data) - 300001 - lookback) // 128"
   ]
  },
  {
   "cell_type": "code",
   "execution_count": 16,
   "metadata": {},
   "outputs": [
    {
     "name": "stderr",
     "output_type": "stream",
     "text": [
      "W0712 18:43:37.114564 139971567470336 deprecation.py:506] From /usr/local/miniconda3/envs/dl/lib/python3.6/site-packages/keras/backend/tensorflow_backend.py:3445: calling dropout (from tensorflow.python.ops.nn_ops) with keep_prob is deprecated and will be removed in a future version.\n",
      "Instructions for updating:\n",
      "Please use `rate` instead of `keep_prob`. Rate should be set to `rate = 1 - keep_prob`.\n"
     ]
    },
    {
     "name": "stdout",
     "output_type": "stream",
     "text": [
      "_________________________________________________________________\n",
      "Layer (type)                 Output Shape              Param #   \n",
      "=================================================================\n",
      "conv1d_6 (Conv1D)            (None, None, 32)          2272      \n",
      "_________________________________________________________________\n",
      "max_pooling1d_4 (MaxPooling1 (None, None, 32)          0         \n",
      "_________________________________________________________________\n",
      "conv1d_7 (Conv1D)            (None, None, 32)          5152      \n",
      "_________________________________________________________________\n",
      "gru_1 (GRU)                  (None, 32)                6240      \n",
      "_________________________________________________________________\n",
      "dense_3 (Dense)              (None, 1)                 33        \n",
      "=================================================================\n",
      "Total params: 13,697\n",
      "Trainable params: 13,697\n",
      "Non-trainable params: 0\n",
      "_________________________________________________________________\n"
     ]
    }
   ],
   "source": [
    "from keras.models import Sequential\n",
    "from keras import layers\n",
    "from keras.optimizers import RMSprop\n",
    "\n",
    "model = Sequential()\n",
    "model.add(layers.Conv1D(32, 5, activation='relu',\n",
    "                        input_shape=(None, float_data.shape[-1])))\n",
    "model.add(layers.MaxPooling1D(3))\n",
    "\n",
    "model.add(layers.Conv1D(32, 5, activation='relu'))\n",
    "model.add(layers.GRU(32, dropout=0.1, recurrent_dropout=0.5))\n",
    "model.add(layers.Dense(1))\n",
    "\n",
    "model.summary()"
   ]
  },
  {
   "cell_type": "code",
   "execution_count": 17,
   "metadata": {},
   "outputs": [],
   "source": [
    "model.compile(optimizer=RMSprop(), loss='mae')"
   ]
  },
  {
   "cell_type": "code",
   "execution_count": 18,
   "metadata": {},
   "outputs": [
    {
     "name": "stdout",
     "output_type": "stream",
     "text": [
      "Epoch 1/20\n",
      "500/500 [==============================] - 153s 306ms/step - loss: 0.3406 - val_loss: 0.2805\n",
      "Epoch 2/20\n",
      "500/500 [==============================] - 148s 296ms/step - loss: 0.3054 - val_loss: 0.2777\n",
      "Epoch 3/20\n",
      "500/500 [==============================] - 148s 297ms/step - loss: 0.2928 - val_loss: 0.3036\n",
      "Epoch 4/20\n",
      "500/500 [==============================] - 150s 300ms/step - loss: 0.2866 - val_loss: 0.2742\n",
      "Epoch 5/20\n",
      "500/500 [==============================] - 150s 300ms/step - loss: 0.2779 - val_loss: 0.2756\n",
      "Epoch 6/20\n",
      "500/500 [==============================] - 149s 298ms/step - loss: 0.2733 - val_loss: 0.2752\n",
      "Epoch 7/20\n",
      "500/500 [==============================] - 150s 299ms/step - loss: 0.2663 - val_loss: 0.2959\n",
      "Epoch 8/20\n",
      "500/500 [==============================] - 148s 296ms/step - loss: 0.2613 - val_loss: 0.2758\n",
      "Epoch 9/20\n",
      "500/500 [==============================] - 151s 302ms/step - loss: 0.2581 - val_loss: 0.2833\n",
      "Epoch 10/20\n",
      "500/500 [==============================] - 149s 297ms/step - loss: 0.2568 - val_loss: 0.2841\n",
      "Epoch 11/20\n",
      "500/500 [==============================] - 150s 300ms/step - loss: 0.2506 - val_loss: 0.2839\n",
      "Epoch 12/20\n",
      "500/500 [==============================] - 149s 298ms/step - loss: 0.2468 - val_loss: 0.2909\n",
      "Epoch 13/20\n",
      "500/500 [==============================] - 150s 301ms/step - loss: 0.2440 - val_loss: 0.2881\n",
      "Epoch 14/20\n",
      "500/500 [==============================] - 149s 297ms/step - loss: 0.2384 - val_loss: 0.2974\n",
      "Epoch 15/20\n",
      "500/500 [==============================] - 150s 300ms/step - loss: 0.2382 - val_loss: 0.2947\n",
      "Epoch 16/20\n",
      "500/500 [==============================] - 149s 298ms/step - loss: 0.2353 - val_loss: 0.2945\n",
      "Epoch 17/20\n",
      "500/500 [==============================] - 148s 296ms/step - loss: 0.2319 - val_loss: 0.3083\n",
      "Epoch 18/20\n",
      "500/500 [==============================] - 149s 299ms/step - loss: 0.2297 - val_loss: 0.3000\n",
      "Epoch 19/20\n",
      "500/500 [==============================] - 149s 299ms/step - loss: 0.2268 - val_loss: 0.2956\n",
      "Epoch 20/20\n",
      "500/500 [==============================] - 148s 296ms/step - loss: 0.2260 - val_loss: 0.3022\n"
     ]
    }
   ],
   "source": [
    "history = model.fit_generator(train_gen,\n",
    "                              steps_per_epoch=500,\n",
    "                              epochs=20,\n",
    "                              validation_data=val_gen,\n",
    "                              validation_steps=val_steps)"
   ]
  },
  {
   "cell_type": "code",
   "execution_count": 19,
   "metadata": {},
   "outputs": [
    {
     "data": {
      "image/png": "[encoded data removed]",
      "text/plain": [
       "<Figure size 432x288 with 1 Axes>"
      ]
     },
     "metadata": {
      "needs_background": "light"
     },
     "output_type": "display_data"
    }
   ],
   "source": [
    "import matplotlib.pyplot as plt\n",
    "\n",
    "loss = history.history['loss']\n",
    "val_loss = history.history['val_loss']\n",
    "\n",
    "epochs = range(1, len(loss) + 1)\n",
    "\n",
    "plt.figure()\n",
    "plt.plot(epochs, loss, 'bo', label='Training loss')\n",
    "plt.plot(epochs, val_loss, 'b', label='Validation loss')\n",
    "plt.title('Training and validation loss')\n",
    "plt.legend()\n",
    "\n",
    "plt.show()"
   ]
  },
  {
   "cell_type": "markdown",
   "metadata": {},
   "source": [
    "###  Judging from the validation loss, this setup isn't as good as the regularized GRU alone, but it's significantly faster. It looks at twice as much data, which in this case does not seem hugely helpful, but maybe important for other datasets."
   ]
  },
  {
   "cell_type": "code",
   "execution_count": null,
   "metadata": {},
   "outputs": [],
   "source": []
  }
 ],
 "metadata": {
  "kernelspec": {
   "display_name": "Python 3",
   "language": "python",
   "name": "python3"
  },
  "language_info": {
   "codemirror_mode": {
    "name": "ipython",
    "version": 3
   },
   "file_extension": ".py",
   "mimetype": "text/x-python",
   "name": "python",
   "nbconvert_exporter": "python",
   "pygments_lexer": "ipython3",
   "version": "3.6.6"
  }
 },
 "nbformat": 4,
 "nbformat_minor": 2
}

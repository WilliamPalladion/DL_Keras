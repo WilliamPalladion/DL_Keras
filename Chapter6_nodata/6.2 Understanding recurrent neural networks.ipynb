{
 "cells": [
  {
   "cell_type": "markdown",
   "metadata": {},
   "source": [
    "# 6.2 Understanding recurrent neural networks"
   ]
  },
  {
   "cell_type": "markdown",
   "metadata": {},
   "source": [
    "A major characteristic of all neural networks we've seen so far, is that **they have no memory**. **Each input shown to them is processed independently, with no *state* kept in between inputs**. Thus in order to process a sequence or a temporal series of data points, we have to show the entire sequence to the network at once and proceess in one go.\n",
    "\n",
    "### Such networks are called *feedforward networks* (前馈网络)\n",
    "\n",
    "In contrast, when reading the sentence, you're processing it word by word (or eye saccade by eye saccade), while keeping memories of what came before, this gives us a fluid representation of the meaning conveyed in the sentence.\n",
    "\n",
    "### Biological intelligence processes information incrementally while maintaining an internal model of what it's processing, built from past information and constantly updated as new information comes in.\n",
    "\n",
    "A ***recurrent neural network (RNN)*** adopts the same principle but in a simpler version: it processes sequences by iterating through the sequence elements and maintaining a ***state*** containing information relatve to what it has seen so far.\n",
    "\n",
    "In effect, RNN is a type of neural network that has an **internal loop**. The state of the RNN is reset between processing two different, independent sequences (e.g. two different IMDB reviews). So we consider one sequence a single input(data point) into the neural network. What changes is that this data point is no longer processed in a single step, rather, **the network will internally loops over sequence elements**."
   ]
  },
  {
   "cell_type": "markdown",
   "metadata": {},
   "source": [
    "### To make these notions of *loop* and *state* more clear, we implement the forward pass of a toy RNN in Numpy.\n",
    "\n",
    "It takes as input a sequence of vectors of shape **(timesteps, input_features)**. It **loops over timesteps**, and at each timestep, it considers its current state at **t** and input at **t** of shape**(input_features,)** and combine them to obtain the output at **t**.\n",
    "\n",
    "**Then we set the state for the next step to be this previous output.** For the first timestep, since no previous output is defined, we initialize the state as an all-zero vector, called the ***initial state*** of the network."
   ]
  },
  {
   "cell_type": "code",
   "execution_count": null,
   "metadata": {},
   "outputs": [],
   "source": [
    "# Pseudocode RNN\n",
    "\n",
    "state_t = 0  # the state at t\n",
    "\n",
    "for input_t in input_sequence:    # Iterates over sequence elements\n",
    "    output_t = f(input_t, state_t)\n",
    "    state_t = output_t   # previous output becomes the state for the next iteration"
   ]
  },
  {
   "cell_type": "markdown",
   "metadata": {},
   "source": [
    "### You can even flesh the function f: the transformation of the input an state into an output that is parameterized by two matrices: *W* and *U*,  and a bias vector *b* (similar to Dense layer in a feedforward network)"
   ]
  },
  {
   "cell_type": "code",
   "execution_count": null,
   "metadata": {},
   "outputs": [],
   "source": [
    "state_t = 0\n",
    "\n",
    "for input_t in input_sequence:\n",
    "    output_t = activation(dot(W, input_t) + dot(U, state_t) + b)\n",
    "    state_t = output_t"
   ]
  },
  {
   "cell_type": "markdown",
   "metadata": {},
   "source": [
    "### To make it more concrete,  we write a naive Numpy implementation of the forward pass of the simple RNN:"
   ]
  },
  {
   "cell_type": "code",
   "execution_count": null,
   "metadata": {},
   "outputs": [],
   "source": [
    "import numpy as np\n",
    "\n",
    "timesteps = 100\n",
    "input_features = 32 # Dimensionality of input feature space\n",
    "output_features = 64\n",
    "\n",
    "inputs = np.random.random((timesteps, input_features)) # input data: random noise \n",
    "\n",
    "state_t = np.zeros((output_features,))  # Initial state: all-zero vector\n",
    "\n",
    "# Create random weight matrices\n",
    "W = np.random.random((output_features, input_features))\n",
    "U = np.random.random((output_features, output_features))\n",
    "b = np.random.random((output_features,))\n",
    "\n",
    "successive_outputs = [] # stores the output in a list\n",
    "\n",
    "for input_t in inputs: # loops every timestep\n",
    "    \n",
    "    output_t = np.tanh(np.dot(W, input_t) + np.dot(U, state_t) + b)\n",
    "    \n",
    "    successive_outputs.append(output_t)\n",
    "    \n",
    "    state_t = output_t # update the state for the next timestep\n",
    "\n",
    "final_output_sequence = np.concatenate(successive_outputs, axis = 0)\n",
    "# a 2D tensor of shape (timesteps, output_features), each timestep is the output of the loop at time t"
   ]
  },
  {
   "cell_type": "markdown",
   "metadata": {},
   "source": [
    "### Easy summary: an RNN is a for loop that  reuses quantities computed during the previous iteration of the loop, nothing more. Of course, there are many other variations of RNN fitting this definition we could build.\n",
    "\n",
    "### RNN is characterized by their step function, such as the case used above:\n",
    "output_t = np.tanh(np.dot(W, input_t) + np.dot(U, state_t) + b)\n",
    "\n",
    "### Note that the final output is a 2D tensor of shape (timesteps, output_features),  where each timestep is the output of the loop at time t. Each timestep t in the output tensor contains information about timesteps 0 to t in the  input sequence ---- *about the entire past* \n",
    "\n",
    "### For this reason, in many cases, we don't need this full sequence of outputs, we just need the last output, because it already contains information about the entire sequence."
   ]
  },
  {
   "cell_type": "markdown",
   "metadata": {},
   "source": [
    "## 6.2.1 A recurrent layer in Keras"
   ]
  },
  {
   "cell_type": "markdown",
   "metadata": {},
   "source": [
    "The naive implementation we've just done corresponds to an actual Keras layer --- the **SimpleRNN** layer\n",
    "\n",
    "The only minor difference is: **SimpleRNN processes batches of sequences**, not a single sequence in the naive example. This means it will take inputs of shape **(batch_size, timesteps, input_features)**\n",
    "\n",
    "Like all recurrent layers in Keras, SimpleRNN can be run in **two different modes**:\n",
    "\n",
    "1) return the full sequence of successive outputs for each timestep (3D  tensor of shape **(batch_size, timesteps, output_features)**);\n",
    "\n",
    "2) only return the last output for each input sequence (2D tensor of shape **(batch_size, output_features)**);\n",
    "\n",
    "These two modes are controlled by the **return_sequences** constructor argument."
   ]
  },
  {
   "cell_type": "markdown",
   "metadata": {},
   "source": [
    "### Let's first see an example uses SimpleRNN and returns only the output at the last timestep (Default)"
   ]
  },
  {
   "cell_type": "code",
   "execution_count": 1,
   "metadata": {},
   "outputs": [
    {
     "name": "stderr",
     "output_type": "stream",
     "text": [
      "Using TensorFlow backend.\n"
     ]
    },
    {
     "name": "stdout",
     "output_type": "stream",
     "text": [
      "WARNING:tensorflow:From /home/yanbo/.local/lib/python3.6/site-packages/tensorflow_core/python/ops/resource_variable_ops.py:1630: calling BaseResourceVariable.__init__ (from tensorflow.python.ops.resource_variable_ops) with constraint is deprecated and will be removed in a future version.\n",
      "Instructions for updating:\n",
      "If using Keras pass *_constraint arguments to layers.\n",
      "Model: \"sequential_1\"\n",
      "_________________________________________________________________\n",
      "Layer (type)                 Output Shape              Param #   \n",
      "=================================================================\n",
      "embedding_1 (Embedding)      (None, None, 32)          320000    \n",
      "_________________________________________________________________\n",
      "simple_rnn_1 (SimpleRNN)     (None, 32)                2080      \n",
      "=================================================================\n",
      "Total params: 322,080\n",
      "Trainable params: 322,080\n",
      "Non-trainable params: 0\n",
      "_________________________________________________________________\n"
     ]
    }
   ],
   "source": [
    "from keras.models import Sequential\n",
    "from keras.layers import Embedding, SimpleRNN\n",
    "\n",
    "model = Sequential()\n",
    "model.add(Embedding(10000, 32))\n",
    "model.add(SimpleRNN(32))\n",
    "\n",
    "model.summary()"
   ]
  },
  {
   "cell_type": "markdown",
   "metadata": {},
   "source": [
    "### The following example returns the full state sequence:"
   ]
  },
  {
   "cell_type": "code",
   "execution_count": 3,
   "metadata": {},
   "outputs": [
    {
     "name": "stdout",
     "output_type": "stream",
     "text": [
      "Model: \"sequential_3\"\n",
      "_________________________________________________________________\n",
      "Layer (type)                 Output Shape              Param #   \n",
      "=================================================================\n",
      "embedding_3 (Embedding)      (None, None, 32)          320000    \n",
      "_________________________________________________________________\n",
      "simple_rnn_2 (SimpleRNN)     (None, None, 32)          2080      \n",
      "=================================================================\n",
      "Total params: 322,080\n",
      "Trainable params: 322,080\n",
      "Non-trainable params: 0\n",
      "_________________________________________________________________\n"
     ]
    }
   ],
   "source": [
    "model = Sequential()\n",
    "model.add(Embedding(10000, 32))\n",
    "model.add(SimpleRNN(32, return_sequences = True))\n",
    "\n",
    "model.summary()"
   ]
  },
  {
   "cell_type": "markdown",
   "metadata": {},
   "source": [
    "### It's sometimes useful to stack several recurrent layers one after the other in order to increase the representational power of a network. In such a setup, you have to get all of the intermediate layers to return full sequence of outputs:"
   ]
  },
  {
   "cell_type": "code",
   "execution_count": 4,
   "metadata": {},
   "outputs": [
    {
     "name": "stdout",
     "output_type": "stream",
     "text": [
      "Model: \"sequential_4\"\n",
      "_________________________________________________________________\n",
      "Layer (type)                 Output Shape              Param #   \n",
      "=================================================================\n",
      "embedding_4 (Embedding)      (None, None, 32)          320000    \n",
      "_________________________________________________________________\n",
      "simple_rnn_3 (SimpleRNN)     (None, None, 32)          2080      \n",
      "_________________________________________________________________\n",
      "simple_rnn_4 (SimpleRNN)     (None, None, 32)          2080      \n",
      "_________________________________________________________________\n",
      "simple_rnn_5 (SimpleRNN)     (None, None, 32)          2080      \n",
      "_________________________________________________________________\n",
      "simple_rnn_6 (SimpleRNN)     (None, 32)                2080      \n",
      "=================================================================\n",
      "Total params: 328,320\n",
      "Trainable params: 328,320\n",
      "Non-trainable params: 0\n",
      "_________________________________________________________________\n"
     ]
    }
   ],
   "source": [
    "model = Sequential()\n",
    "model.add(Embedding(10000, 32))\n",
    "model.add(SimpleRNN(32, return_sequences = True))\n",
    "model.add(SimpleRNN(32, return_sequences = True))\n",
    "model.add(SimpleRNN(32, return_sequences = True))\n",
    "model.add(SimpleRNN(32))  #  last layer only returns the last output\n",
    "\n",
    "model.summary()"
   ]
  },
  {
   "cell_type": "markdown",
   "metadata": {},
   "source": [
    "### Now we use such a model on IMDB set. First, preprocess the data:"
   ]
  },
  {
   "cell_type": "code",
   "execution_count": 5,
   "metadata": {},
   "outputs": [
    {
     "name": "stdout",
     "output_type": "stream",
     "text": [
      "Loading data...\n"
     ]
    },
    {
     "name": "stderr",
     "output_type": "stream",
     "text": [
      "/home/yanbo/.local/lib/python3.6/site-packages/keras/datasets/imdb.py:101: VisibleDeprecationWarning: Creating an ndarray from ragged nested sequences (which is a list-or-tuple of lists-or-tuples-or ndarrays with different lengths or shapes) is deprecated. If you meant to do this, you must specify 'dtype=object' when creating the ndarray\n",
      "  x_train, y_train = np.array(xs[:idx]), np.array(labels[:idx])\n",
      "/home/yanbo/.local/lib/python3.6/site-packages/keras/datasets/imdb.py:102: VisibleDeprecationWarning: Creating an ndarray from ragged nested sequences (which is a list-or-tuple of lists-or-tuples-or ndarrays with different lengths or shapes) is deprecated. If you meant to do this, you must specify 'dtype=object' when creating the ndarray\n",
      "  x_test, y_test = np.array(xs[idx:]), np.array(labels[idx:])\n"
     ]
    },
    {
     "name": "stdout",
     "output_type": "stream",
     "text": [
      "25000 train sequences\n",
      "25000 test sequence\n",
      "Pad sequences (samples x time)\n",
      "input_train shape: (25000, 500)\n",
      "input_test shape: (25000, 500)\n"
     ]
    }
   ],
   "source": [
    "# Preparing the IMDB data\n",
    "from keras.datasets import imdb\n",
    "from keras.preprocessing import sequence\n",
    "\n",
    "max_features = 10000   # number of words to consider as features\n",
    "maxlen = 500    # cut off texts after this many words\n",
    "batch_size = 32\n",
    "\n",
    "print('Loading data...')\n",
    "(input_train, y_train), (input_test, y_test) = imdb.load_data(num_words = max_features)\n",
    "\n",
    "print(len(input_train), 'train sequences')\n",
    "print(len(input_test), 'test sequence')\n",
    "\n",
    "print('Pad sequences (samples x time)')\n",
    "input_train = sequence.pad_sequences(input_train, maxlen = maxlen)\n",
    "input_test = sequence.pad_sequences(input_test, maxlen = maxlen)\n",
    "\n",
    "print('input_train shape:', input_train.shape)\n",
    "print('input_test shape:', input_test.shape)"
   ]
  },
  {
   "cell_type": "markdown",
   "metadata": {},
   "source": [
    "### Let's train a simple recurrent network using an Embedding layer and a SimpleRNN layer"
   ]
  },
  {
   "cell_type": "code",
   "execution_count": 10,
   "metadata": {},
   "outputs": [],
   "source": [
    "from keras.layers import Dense\n",
    "\n",
    "model = Sequential()\n",
    "model.add(Embedding(max_features, 32))\n",
    "model.add(SimpleRNN(32))\n",
    "model.add(Dense(1, activation = 'sigmoid'))\n",
    "\n",
    "model.compile(optimizer = 'rmsprop', loss = 'binary_crossentropy', metrics = ['acc'])"
   ]
  },
  {
   "cell_type": "code",
   "execution_count": 11,
   "metadata": {},
   "outputs": [
    {
     "name": "stdout",
     "output_type": "stream",
     "text": [
      "Train on 20000 samples, validate on 5000 samples\n",
      "Epoch 1/10\n",
      "20000/20000 [==============================] - 19s 967us/step - loss: 0.6407 - acc: 0.6225 - val_loss: 0.5135 - val_acc: 0.7904\n",
      "Epoch 2/10\n",
      "20000/20000 [==============================] - 17s 830us/step - loss: 0.3886 - acc: 0.8375 - val_loss: 0.5284 - val_acc: 0.7482\n",
      "Epoch 3/10\n",
      "20000/20000 [==============================] - 17s 826us/step - loss: 0.2769 - acc: 0.8935 - val_loss: 0.3710 - val_acc: 0.8434\n",
      "Epoch 4/10\n",
      "20000/20000 [==============================] - 17s 826us/step - loss: 0.2269 - acc: 0.9124 - val_loss: 0.4087 - val_acc: 0.8270\n",
      "Epoch 5/10\n",
      "20000/20000 [==============================] - 17s 831us/step - loss: 0.1688 - acc: 0.9370 - val_loss: 0.4520 - val_acc: 0.8036\n",
      "Epoch 6/10\n",
      "20000/20000 [==============================] - 17s 834us/step - loss: 0.1110 - acc: 0.9634 - val_loss: 0.4107 - val_acc: 0.8626\n",
      "Epoch 7/10\n",
      "20000/20000 [==============================] - 17s 833us/step - loss: 0.0843 - acc: 0.9725 - val_loss: 0.4789 - val_acc: 0.8296\n",
      "Epoch 8/10\n",
      "20000/20000 [==============================] - 17s 836us/step - loss: 0.0490 - acc: 0.9851 - val_loss: 0.5633 - val_acc: 0.8226\n",
      "Epoch 9/10\n",
      "20000/20000 [==============================] - 17s 836us/step - loss: 0.0337 - acc: 0.9902 - val_loss: 0.7487 - val_acc: 0.7558\n",
      "Epoch 10/10\n",
      "20000/20000 [==============================] - 17s 840us/step - loss: 0.0526 - acc: 0.9828 - val_loss: 0.5636 - val_acc: 0.8330\n"
     ]
    }
   ],
   "source": [
    "history = model.fit(input_train, y_train,\n",
    "                    epochs = 10,\n",
    "                    batch_size = 128,\n",
    "                    validation_split = 0.2)"
   ]
  },
  {
   "cell_type": "markdown",
   "metadata": {},
   "source": [
    "### Now we display the training and validation loss and accuracy"
   ]
  },
  {
   "cell_type": "code",
   "execution_count": 13,
   "metadata": {},
   "outputs": [
    {
     "data": {
      "image/png": "[encoded data removed]",
      "text/plain": [
       "<Figure size 432x288 with 1 Axes>"
      ]
     },
     "metadata": {},
     "output_type": "display_data"
    },
    {
     "data": {
      "image/png": "[encoded data removed]",
      "text/plain": [
       "<Figure size 432x288 with 1 Axes>"
      ]
     },
     "metadata": {},
     "output_type": "display_data"
    }
   ],
   "source": [
    "import matplotlib.pyplot as plt\n",
    "\n",
    "acc = history.history['acc']\n",
    "val_acc = history.history['val_acc']\n",
    "loss = history.history['loss']\n",
    "val_loss = history.history['val_loss']\n",
    "\n",
    "epochs = range(1, len(acc) + 1)\n",
    "\n",
    "plt.plot(epochs, acc, 'bo', label='Training acc')\n",
    "plt.plot(epochs, val_acc, 'b', label='Validation acc')\n",
    "plt.title('Training and validation accuracy')\n",
    "plt.legend()\n",
    "\n",
    "plt.figure()\n",
    "\n",
    "plt.plot(epochs, loss, 'bo', label='Training loss')\n",
    "plt.plot(epochs, val_loss, 'b', label='Validation loss')\n",
    "plt.title('Training and validation loss')\n",
    "plt.legend()\n",
    "\n",
    "plt.show()"
   ]
  },
  {
   "cell_type": "markdown",
   "metadata": {},
   "source": [
    "As a reminder, the naive approach in Chapter 3 got you to a validation accuracy of 88%. Unfortuantely, this small recurrent network does not perform well compared to this baseline (only 85% validation accuracy).\n",
    "\n",
    "### The problem may lie in two parts:\n",
    "### 1) your inputs cut the texts after the first 500 words, rather than the full sequences --- hence the RNN has less information than the baseline model;\n",
    "### 2) SImpleRNN is not good at processing long sequences, such as texts. Other types of recurrent layers perform much better.\n",
    "\n",
    "Let's see some more-advanced layers."
   ]
  },
  {
   "cell_type": "markdown",
   "metadata": {},
   "source": [
    "## 6.2.2 Understanding the LSTM and GRU layers"
   ]
  },
  {
   "cell_type": "markdown",
   "metadata": {},
   "source": [
    "In practice, SimpleRNN is generally too simplistic to be of real use. There are two other recurrent layers available in Keras: **LSTM** and **GRU**. we always choose one of these.\n",
    "\n",
    "SimpleRNN has a major issue: \n",
    "### Although it could theoretically retain at time t information about inputs seen many timesteps before, in practice, such long-term dependencies are impossible to learn.\n",
    "\n",
    "This is due to the ***vanishing gradient problem***, an effect that is similar to what is observed in feedforward networks that are many layers deep: \n",
    "### As you keep adding layers to a network, the network eventually becomes untrainable.\n",
    "\n",
    "The theoretical reasons for this effect were studied by **Hochreiter, Schmidhuber, and Bengio** in the early 1990s. The LSTM and GRU layers are designed to solve this problem."
   ]
  },
  {
   "cell_type": "markdown",
   "metadata": {},
   "source": [
    "### LSTM (Long Short-Term Memory)\n",
    "\n",
    "Developed by Hochreiter and Schmidhuber in 1997, the culmination of their research on vanishing gradient problem.\n",
    "This layer is a variant of the SimpleRNN: **it adds a way to carry information across many timesteps**.\n",
    "\n",
    "Imagine a conveyor belt running parallel to the sequence you’re processing. Information from the sequence can jump onto the conveyor belt at any point, **be transported to a later timestep**, and jump off, intact, when you need it. \n",
    "\n",
    "### This is essentially what LSTM does: it saves information for later, thus preventing older signals from gradually vanishing during processing."
   ]
  },
  {
   "cell_type": "markdown",
   "metadata": {},
   "source": [
    "### To understand it in detail, let's start from the SimpleRNN cell, we index the W and U matrices in the cell with the letter o (Wo and Uo) for *output*"
   ]
  },
  {
   "cell_type": "code",
   "execution_count": null,
   "metadata": {},
   "outputs": [],
   "source": [
    "output_t = activation(Wo * input_t + Uo * state_t + bo)"
   ]
  },
  {
   "cell_type": "markdown",
   "metadata": {},
   "source": [
    "### Let's add this addtional data flow that carries information across timesteps. Call its values at different timesteps Ct, where *C* stands for *carry*. Now the output will become: "
   ]
  },
  {
   "cell_type": "code",
   "execution_count": null,
   "metadata": {},
   "outputs": [],
   "source": [
    "output_t = activation(Wo * input_t + Uo * state_t + Vo * c_t + bo)"
   ]
  },
  {
   "cell_type": "markdown",
   "metadata": {},
   "source": [
    "### Now comes the subtlety: the way the next value of the carry dataflow is computed (i.e. How to compute C_t from C_t-1 ): It involves 3 distinct transformations, all of them have the form of a SimpleRNN cell:"
   ]
  },
  {
   "cell_type": "code",
   "execution_count": null,
   "metadata": {},
   "outputs": [],
   "source": [
    "y = activation(dot(state_t, U) + dot(input_t, W) + b)"
   ]
  },
  {
   "cell_type": "markdown",
   "metadata": {},
   "source": [
    "### But all three transformations have their own weight matrices, which we index with i, f, k"
   ]
  },
  {
   "cell_type": "code",
   "execution_count": null,
   "metadata": {},
   "outputs": [],
   "source": [
    "output_t = activation(dot(state_t, Uo) + dot(input_t, Wo) + dot(C_t, Vo) + bo)\n",
    "\n",
    "i_t = activation(dot(state_t, Ui) + dot(input_t, Wi) + bi)\n",
    "f_t = activation(dot(state_t, Uf) + dot(input_t, Wf) + bf)\n",
    "k_t = activation(dot(state_t, Uk) + dot(input_t, Wk) + bk)"
   ]
  },
  {
   "cell_type": "markdown",
   "metadata": {},
   "source": [
    "### Then we obtain the new carry state C_t+1 by combining i_t, f_t, k_t."
   ]
  },
  {
   "cell_type": "code",
   "execution_count": null,
   "metadata": {},
   "outputs": [],
   "source": [
    "C_t+1 = i_t * k_t + C_t * f_t"
   ]
  },
  {
   "cell_type": "markdown",
   "metadata": {},
   "source": [
    "You can interpret what each of these operations is meant to do. For instance, you can say that multiplying c_t and f_t is a way to deliberately forget irrelevant information in the carry dataflow. Meanwhile, i_t and k_t provide information about the present, updating the carry track with new information.\n",
    "\n",
    "But at the end of the day, these interpretations don’t mean much, because **what these operations actually do is determined by the contents of the weights parameterizing them**; and the weights are learned in an end-to-end fashion, starting over with each training round, making it impossible to credit this or that operation with a specific purpose. \n",
    "\n",
    "**The specification of an RNN cell (as just described) determines your hypothesis space**—the space in which you’ll search for a good model configuration during training—**but it doesn’t determine what the cell does; that is up to the cell weights**. The same cell with different weights can be doing very different things. So the combination of operations making up an RNN cell is better interpreted as a set of constraints on your search, not as a design in an engineering sense.\n",
    "\n",
    "It seems that **the choice of such constraints—the question of how to implement RNN cells—is better left to optimization algorithms (like genetic algorithms or reinforcement learning processes) than to human engineers**. As a human, it shouldn’t be your job to understand it."
   ]
  },
  {
   "cell_type": "markdown",
   "metadata": {},
   "source": [
    "## 6.2.3 A concrete LSTM example in Keras"
   ]
  },
  {
   "cell_type": "markdown",
   "metadata": {},
   "source": [
    "### We set up a model using LSTM layer and train it on the IMDB data, we only specify the output dimensionality of the LSTM layer, leave other arguments as defaults in Keras. Keras has good defaults, and things will almost 'just work' without you spending time tuning parameters by hand."
   ]
  },
  {
   "cell_type": "code",
   "execution_count": 14,
   "metadata": {},
   "outputs": [],
   "source": [
    "from keras.layers import LSTM\n",
    "\n",
    "model = Sequential()\n",
    "model.add(Embedding(max_features, 32))\n",
    "model.add(LSTM(32))\n",
    "model.add(Dense(1, activation = 'sigmoid'))\n",
    "\n",
    "model.compile(optimizer = 'rmsprop', loss = 'binary_crossentropy', metrics = ['acc'])"
   ]
  },
  {
   "cell_type": "code",
   "execution_count": 15,
   "metadata": {},
   "outputs": [
    {
     "name": "stdout",
     "output_type": "stream",
     "text": [
      "Train on 20000 samples, validate on 5000 samples\n",
      "Epoch 1/10\n",
      "20000/20000 [==============================] - 36s 2ms/step - loss: 0.5363 - acc: 0.7472 - val_loss: 0.4020 - val_acc: 0.8324\n",
      "Epoch 2/10\n",
      "20000/20000 [==============================] - 34s 2ms/step - loss: 0.3141 - acc: 0.8766 - val_loss: 0.3692 - val_acc: 0.8398\n",
      "Epoch 3/10\n",
      "20000/20000 [==============================] - 34s 2ms/step - loss: 0.2361 - acc: 0.9095 - val_loss: 0.3167 - val_acc: 0.8640\n",
      "Epoch 4/10\n",
      "20000/20000 [==============================] - 34s 2ms/step - loss: 0.2037 - acc: 0.9247 - val_loss: 0.3141 - val_acc: 0.8626\n",
      "Epoch 5/10\n",
      "20000/20000 [==============================] - 34s 2ms/step - loss: 0.1745 - acc: 0.9367 - val_loss: 0.3403 - val_acc: 0.8732\n",
      "Epoch 6/10\n",
      "20000/20000 [==============================] - 34s 2ms/step - loss: 0.1616 - acc: 0.9434 - val_loss: 0.4302 - val_acc: 0.8488\n",
      "Epoch 7/10\n",
      "20000/20000 [==============================] - 34s 2ms/step - loss: 0.1453 - acc: 0.9491 - val_loss: 0.3104 - val_acc: 0.8704\n",
      "Epoch 8/10\n",
      "20000/20000 [==============================] - 34s 2ms/step - loss: 0.1292 - acc: 0.9549 - val_loss: 0.3597 - val_acc: 0.8724\n",
      "Epoch 9/10\n",
      "20000/20000 [==============================] - 34s 2ms/step - loss: 0.1191 - acc: 0.9600 - val_loss: 0.3521 - val_acc: 0.8790\n",
      "Epoch 10/10\n",
      "20000/20000 [==============================] - 34s 2ms/step - loss: 0.1079 - acc: 0.9630 - val_loss: 0.4486 - val_acc: 0.8424\n"
     ]
    }
   ],
   "source": [
    "history = model.fit(input_train, y_train,\n",
    "                    epochs = 10,\n",
    "                    batch_size = 128,\n",
    "                    validation_split = 0.2)"
   ]
  },
  {
   "cell_type": "code",
   "execution_count": 16,
   "metadata": {},
   "outputs": [
    {
     "data": {
      "image/png": "[encoded data removed]",
      "text/plain": [
       "<Figure size 432x288 with 1 Axes>"
      ]
     },
     "metadata": {},
     "output_type": "display_data"
    },
    {
     "data": {
      "image/png": "[encoded data removed]",
      "text/plain": [
       "<Figure size 432x288 with 1 Axes>"
      ]
     },
     "metadata": {},
     "output_type": "display_data"
    }
   ],
   "source": [
    "import matplotlib.pyplot as plt\n",
    "\n",
    "acc = history.history['acc']\n",
    "val_acc = history.history['val_acc']\n",
    "loss = history.history['loss']\n",
    "val_loss = history.history['val_loss']\n",
    "\n",
    "epochs = range(1, len(acc) + 1)\n",
    "\n",
    "plt.plot(epochs, acc, 'bo', label='Training acc')\n",
    "plt.plot(epochs, val_acc, 'b', label='Validation acc')\n",
    "plt.title('Training and validation accuracy')\n",
    "plt.legend()\n",
    "\n",
    "plt.figure()\n",
    "\n",
    "plt.plot(epochs, loss, 'bo', label='Training loss')\n",
    "plt.plot(epochs, val_loss, 'b', label='Validation loss')\n",
    "plt.title('Training and validation loss')\n",
    "plt.legend()\n",
    "\n",
    "plt.show()"
   ]
  },
  {
   "cell_type": "markdown",
   "metadata": {},
   "source": [
    "### This time we achieve up to 88% validation accuracy. Not bad, certainly better than SimpleRNN, largely because LSTM suffers much less from the vanishing-gradiet problem ---- and slightly better tha fully connected approach from Chapter3, even though we look at less data (truncating sequences after 500 timesteps)\n",
    "\n",
    "### But this result is  not groundbreaking for such a computationally intensive appraoch. Why isn't LSTM performing better ? \n",
    "\n",
    "### 1) One reason might be no effort made to tune hyperparameters (e.g dimensionality);\n",
    "### 2) Another might be lack of regularization;\n",
    "\n",
    "### But honestly, the primary reason is that analyzing the global, long-term structure of the reviews (what LSTM is good at) is not helpful for a sentiment-analysis problem.\n",
    "\n",
    "### Such a basic problem is well solved by looking at key words and their frequency, that' s what the fully connected appraoch looked at.\n",
    "\n",
    "### But there are far more difficult problem in NLP, where the strength of LSTM will become apparent: in particular, question-answering and machine translation."
   ]
  },
  {
   "cell_type": "code",
   "execution_count": null,
   "metadata": {},
   "outputs": [],
   "source": []
  }
 ],
 "metadata": {
  "kernelspec": {
   "display_name": "Python 3",
   "language": "python",
   "name": "python3"
  },
  "language_info": {
   "codemirror_mode": {
    "name": "ipython",
    "version": 3
   },
   "file_extension": ".py",
   "mimetype": "text/x-python",
   "name": "python",
   "nbconvert_exporter": "python",
   "pygments_lexer": "ipython3",
   "version": "3.6.9"
  }
 },
 "nbformat": 4,
 "nbformat_minor": 2
}

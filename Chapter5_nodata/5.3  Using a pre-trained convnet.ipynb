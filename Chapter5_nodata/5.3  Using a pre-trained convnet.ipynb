{
 "cells": [
  {
   "cell_type": "markdown",
   "metadata": {},
   "source": [
    "# 5.3 Using a pre-trained convnet"
   ]
  },
  {
   "cell_type": "markdown",
   "metadata": {},
   "source": [
    "## A common and highly effective approach to deep learning on small image datasets is to use a pretrained network;\n",
    "\n",
    "## A *pretrained network* is a saved network that was previously trained on a large dataset, typically on a large-scale image-classifiaction task.\n",
    "\n",
    "## If the original dataset is large enough and general enough, then the spatial hierarchy of features learned by the pretrained network can effectively act as a generic model of the visual world, hence its features can prove useful for many different computer vision problems"
   ]
  },
  {
   "cell_type": "markdown",
   "metadata": {},
   "source": [
    "## In this case, we consider a large convnet trained on the ImageNet dataset (1.4 million labeled images and 1000 different classes).  We use the VGG16 architecture, developed by Karen Simonyan and Andrew Zisserman in 2014;\n",
    "\n",
    "## There are two ways to use a pretrained network: *feature extraction* and *fine-tuning*"
   ]
  },
  {
   "cell_type": "markdown",
   "metadata": {},
   "source": [
    "## 5.3.1 Feature extraction"
   ]
  },
  {
   "cell_type": "markdown",
   "metadata": {},
   "source": [
    "### Feature extraction consists of using the representations learned by a previous network to extract interesting features from new samples. These features are then run through a new classifier, whichi is trained from scratch.\n",
    "\n",
    "### Convnets comprise 2 parts: *convolutional base* (convolution layers and pooling) & *densely connected* classifiers;\n",
    "### Feature extraction consists of taking the convolutional base of a pre-trained network, running the new data through it and training a new classifier on top of the output. "
   ]
  },
  {
   "cell_type": "markdown",
   "metadata": {},
   "source": [
    "## WHY only reuse the convolutional base ? :\n",
    "### Generally we should avoid reusing the densely connected classifier, the reason is that the representations learned by the convolutional base are more generic and therefore more reusable:\n",
    "### the feature maps of a convnet are presence maps of generic concepts over a picture, which is likely to be useful regardless of the problem settings, while the representations learned by the classifier will necessarily be specific to the set of classes on which the model was trained --- only contain information about the presence probability of specific class in the picture, which changes vitally on different settings;\n",
    "### Additionally, the *locations* of the objects in the input image will not be learned by the densely connected layers: they get rid of the notion of space, whereas the object location is still described by convolutional feature maps. Thus for problems where object location matters, densely connected features are largely useless;"
   ]
  },
  {
   "cell_type": "markdown",
   "metadata": {},
   "source": [
    "## How much should we reuse the model ?\n",
    "\n",
    "### Note that the level of generality (and therefore reusability) of the representations extracted by specific convolutional layers depends on the *depth of layers* in the model:\n",
    "\n",
    "### Layers come earlier in the model, extract local, highly generic feature maps (edges, colors, textures, etc.) whereas layers that are higher ip extract more abstracct concepts ('cat ear', 'dog ear', etc).\n",
    "\n",
    "### So if the new dataset differs a lot from the dataset on which the original model was trained, you may be better  off using only the first few layers of the model to do feature extraction, rather than using the entire convolutional base"
   ]
  },
  {
   "cell_type": "markdown",
   "metadata": {},
   "source": [
    "### In this case, because the ImageNet class contains multiple dog and cat classes, it's likely to be beneficial to reuse the information contained in the densely connected layers of the original network. BUT we choose not to, in order to cover the more general case when the class set of the new problem does not overlap the class set of the orginal model"
   ]
  },
  {
   "cell_type": "markdown",
   "metadata": {},
   "source": [
    "### Let's put into practice by using the convolutonal base of the VGG16 network, which is pre-packaged in Keras. You can import from the *keras.applications* module. Here's a list of image-classification models (all pretrained on the ImageNet) that are available in Keras:\n",
    "\n",
    "### 1) Xception\n",
    "### 2) Inception V3\n",
    "### 3) ResNet50\n",
    "### 4) VGG16\n",
    "### 5) VGG19\n",
    "### 6) MobileNet"
   ]
  },
  {
   "cell_type": "code",
   "execution_count": 2,
   "metadata": {},
   "outputs": [
    {
     "name": "stderr",
     "output_type": "stream",
     "text": [
      "WARNING: Logging before flag parsing goes to stderr.\n",
      "W0703 23:21:11.965164 140639730284288 deprecation_wrapper.py:119] From /usr/local/miniconda3/envs/dl/lib/python3.6/site-packages/keras/backend/tensorflow_backend.py:517: The name tf.placeholder is deprecated. Please use tf.compat.v1.placeholder instead.\n",
      "\n",
      "W0703 23:21:12.002148 140639730284288 deprecation_wrapper.py:119] From /usr/local/miniconda3/envs/dl/lib/python3.6/site-packages/keras/backend/tensorflow_backend.py:4138: The name tf.random_uniform is deprecated. Please use tf.random.uniform instead.\n",
      "\n",
      "W0703 23:21:12.054224 140639730284288 deprecation_wrapper.py:119] From /usr/local/miniconda3/envs/dl/lib/python3.6/site-packages/keras/backend/tensorflow_backend.py:3976: The name tf.nn.max_pool is deprecated. Please use tf.nn.max_pool2d instead.\n",
      "\n",
      "W0703 23:21:12.465032 140639730284288 deprecation_wrapper.py:119] From /usr/local/miniconda3/envs/dl/lib/python3.6/site-packages/keras/backend/tensorflow_backend.py:174: The name tf.get_default_session is deprecated. Please use tf.compat.v1.get_default_session instead.\n",
      "\n",
      "W0703 23:21:12.469386 140639730284288 deprecation_wrapper.py:119] From /usr/local/miniconda3/envs/dl/lib/python3.6/site-packages/keras/backend/tensorflow_backend.py:181: The name tf.ConfigProto is deprecated. Please use tf.compat.v1.ConfigProto instead.\n",
      "\n",
      "W0703 23:21:12.470973 140639730284288 deprecation_wrapper.py:119] From /usr/local/miniconda3/envs/dl/lib/python3.6/site-packages/keras/backend/tensorflow_backend.py:186: The name tf.Session is deprecated. Please use tf.compat.v1.Session instead.\n",
      "\n",
      "/usr/local/miniconda3/envs/dl/lib/python3.6/site-packages/keras/engine/saving.py:292: UserWarning: No training configuration found in save file: the model was *not* compiled. Compile it manually.\n",
      "  warnings.warn('No training configuration found in save file: '\n"
     ]
    }
   ],
   "source": [
    "from keras.models import load_model\n",
    "\n",
    "conv_base = load_model('conv_base.h5')"
   ]
  },
  {
   "cell_type": "code",
   "execution_count": 1,
   "metadata": {},
   "outputs": [
    {
     "name": "stderr",
     "output_type": "stream",
     "text": [
      "Using TensorFlow backend.\n"
     ]
    },
    {
     "name": "stdout",
     "output_type": "stream",
     "text": [
      "WARNING:tensorflow:From /home/yanbo/.local/lib/python3.6/site-packages/tensorflow_core/python/ops/resource_variable_ops.py:1630: calling BaseResourceVariable.__init__ (from tensorflow.python.ops.resource_variable_ops) with constraint is deprecated and will be removed in a future version.\n",
      "Instructions for updating:\n",
      "If using Keras pass *_constraint arguments to layers.\n"
     ]
    }
   ],
   "source": [
    "# Instantiate the VGG16 convolutional base\n",
    "\n",
    "from keras.applications import VGG16\n",
    "\n",
    "conv_base = VGG16(weights = 'imagenet',\n",
    "                  include_top = False,\n",
    "                  input_shape = (150, 150, 3))"
   ]
  },
  {
   "cell_type": "markdown",
   "metadata": {},
   "source": [
    "### *weights*: specifies the weight checkpoint from which to initialize the model;\n",
    "### *include_top*: include or not the densely connected classifier on top of the network. By default, this densely connected classifier corresponds to the 1,000 classes from ImageNet.\n",
    "### *input_shape*: (optional) the shape of the image tensors that you'll feed into the network. If you don't pass it, the network still can process inputs of any size"
   ]
  },
  {
   "cell_type": "markdown",
   "metadata": {},
   "source": [
    "### Let's see the architecture of the VGG16 convolutional base. It's similar to the simple convnets we're already familiar with"
   ]
  },
  {
   "cell_type": "code",
   "execution_count": 3,
   "metadata": {},
   "outputs": [
    {
     "name": "stdout",
     "output_type": "stream",
     "text": [
      "_________________________________________________________________\n",
      "Layer (type)                 Output Shape              Param #   \n",
      "=================================================================\n",
      "input_1 (InputLayer)         (None, 150, 150, 3)       0         \n",
      "_________________________________________________________________\n",
      "block1_conv1 (Conv2D)        (None, 150, 150, 64)      1792      \n",
      "_________________________________________________________________\n",
      "block1_conv2 (Conv2D)        (None, 150, 150, 64)      36928     \n",
      "_________________________________________________________________\n",
      "block1_pool (MaxPooling2D)   (None, 75, 75, 64)        0         \n",
      "_________________________________________________________________\n",
      "block2_conv1 (Conv2D)        (None, 75, 75, 128)       73856     \n",
      "_________________________________________________________________\n",
      "block2_conv2 (Conv2D)        (None, 75, 75, 128)       147584    \n",
      "_________________________________________________________________\n",
      "block2_pool (MaxPooling2D)   (None, 37, 37, 128)       0         \n",
      "_________________________________________________________________\n",
      "block3_conv1 (Conv2D)        (None, 37, 37, 256)       295168    \n",
      "_________________________________________________________________\n",
      "block3_conv2 (Conv2D)        (None, 37, 37, 256)       590080    \n",
      "_________________________________________________________________\n",
      "block3_conv3 (Conv2D)        (None, 37, 37, 256)       590080    \n",
      "_________________________________________________________________\n",
      "block3_pool (MaxPooling2D)   (None, 18, 18, 256)       0         \n",
      "_________________________________________________________________\n",
      "block4_conv1 (Conv2D)        (None, 18, 18, 512)       1180160   \n",
      "_________________________________________________________________\n",
      "block4_conv2 (Conv2D)        (None, 18, 18, 512)       2359808   \n",
      "_________________________________________________________________\n",
      "block4_conv3 (Conv2D)        (None, 18, 18, 512)       2359808   \n",
      "_________________________________________________________________\n",
      "block4_pool (MaxPooling2D)   (None, 9, 9, 512)         0         \n",
      "_________________________________________________________________\n",
      "block5_conv1 (Conv2D)        (None, 9, 9, 512)         2359808   \n",
      "_________________________________________________________________\n",
      "block5_conv2 (Conv2D)        (None, 9, 9, 512)         2359808   \n",
      "_________________________________________________________________\n",
      "block5_conv3 (Conv2D)        (None, 9, 9, 512)         2359808   \n",
      "_________________________________________________________________\n",
      "block5_pool (MaxPooling2D)   (None, 4, 4, 512)         0         \n",
      "=================================================================\n",
      "Total params: 14,714,688\n",
      "Trainable params: 14,714,688\n",
      "Non-trainable params: 0\n",
      "_________________________________________________________________\n"
     ]
    }
   ],
   "source": [
    "conv_base.summary()"
   ]
  },
  {
   "cell_type": "markdown",
   "metadata": {},
   "source": [
    "### The final feature map has shape (4, 4, 512). That's the feature on top of which you'll stick a densely connected classifier.\n",
    "\n",
    "### At this point, we could proceed in 2 ways:\n",
    "### 1) Run the convolutional base over your dataset, recording its output to a Numpy array on disk, and then using this data as input to a stand-alone, densely connected classifier. \n",
    "\n",
    "### ----This solution is fast and cheap to run, because it only requires running the convolutional base once for every input image, and by far th convolutional base is the most expensive part of the pipeline. But for the same reason, this technique will not allow you to use data augmentation\n",
    "\n",
    "### 2) Extend the model (conv_base) by adding Dense layers on top, and run the whole thing end to end on the input data. This will allow you to use data augmentation, but it will be far more expensive than 1st method;"
   ]
  },
  {
   "cell_type": "markdown",
   "metadata": {},
   "source": [
    "## M1:   Fast feature extraction without data augmentation"
   ]
  },
  {
   "cell_type": "markdown",
   "metadata": {},
   "source": [
    "### Use *ImageDataGenerator* to extract images as Numpy arrays as well as their labels. You'll extract features from these images by calling the *predict* method of the conv_base model"
   ]
  },
  {
   "cell_type": "code",
   "execution_count": 4,
   "metadata": {},
   "outputs": [],
   "source": [
    "import os\n",
    "import numpy as np\n",
    "from keras.preprocessing.image import ImageDataGenerator"
   ]
  },
  {
   "cell_type": "code",
   "execution_count": 5,
   "metadata": {},
   "outputs": [],
   "source": [
    "base_dir = '/input/cats_and_dogs_small'\n",
    "train_dir = os.path.join(base_dir, 'train')\n",
    "validation_dir = os.path.join(base_dir, 'validation')\n",
    "test_dir = os.path.join(base_dir, 'test')\n",
    "\n",
    "datagen = ImageDataGenerator(rescale = 1./255)\n",
    "batch_size = 20\n",
    "\n",
    "def extract_features(directory, sample_count):\n",
    "    features = np.zeros(shape = (sample_count, 4, 4, 512))\n",
    "    labels = np.zeros(shape = (sample_count))\n",
    "    generator = datagen.flow_from_directory(\n",
    "        directory, \n",
    "        target_size = (150, 150), \n",
    "        batch_size = batch_size, \n",
    "        class_mode = 'binary')\n",
    "    \n",
    "    i = 0\n",
    "    for inputs_batch, labels_batch in generator:\n",
    "        features_batch = conv_base.predict(inputs_batch)\n",
    "        features[i * batch_size: (i+1) * batch_size] = features_batch\n",
    "        labels[i * batch_size : (i+1) * batch_size] = labels_batch\n",
    "        i += 1\n",
    "        if i * batch_size >= sample_count:\n",
    "            break\n",
    "    \n",
    "    return features, labels"
   ]
  },
  {
   "cell_type": "code",
   "execution_count": 6,
   "metadata": {},
   "outputs": [
    {
     "name": "stdout",
     "output_type": "stream",
     "text": [
      "Found 2000 images belonging to 2 classes.\n",
      "Found 1000 images belonging to 2 classes.\n",
      "Found 1000 images belonging to 2 classes.\n"
     ]
    }
   ],
   "source": [
    "train_features, train_labels = extract_features(train_dir, 2000)\n",
    "validation_features, validation_labels = extract_features(validation_dir, 1000)\n",
    "test_features, test_labels = extract_features(test_dir, 1000)"
   ]
  },
  {
   "cell_type": "markdown",
   "metadata": {},
   "source": [
    "### The extracted features are currently of shape (samples, 4, 4, 512).  You will feed them into a densely connected classifier, so we first must flatten them to (samples, 8192):"
   ]
  },
  {
   "cell_type": "code",
   "execution_count": 7,
   "metadata": {},
   "outputs": [],
   "source": [
    "import numpy as np\n",
    "\n",
    "train_features = np.reshape(train_features, (2000, 4 * 4 * 512))\n",
    "validation_features = np.reshape(validation_features, (1000, 4 * 4 *512))\n",
    "test_features = np.reshape(test_features, (1000, 4 * 4 * 512))"
   ]
  },
  {
   "cell_type": "markdown",
   "metadata": {},
   "source": [
    "### Now we can define our densely connected classifier (note the use of dropout for regularization) and train it on the data and labels that you just recorded."
   ]
  },
  {
   "cell_type": "code",
   "execution_count": 8,
   "metadata": {},
   "outputs": [
    {
     "name": "stderr",
     "output_type": "stream",
     "text": [
      "W0703 23:27:46.364267 140639730284288 deprecation.py:506] From /usr/local/miniconda3/envs/dl/lib/python3.6/site-packages/keras/backend/tensorflow_backend.py:3445: calling dropout (from tensorflow.python.ops.nn_ops) with keep_prob is deprecated and will be removed in a future version.\n",
      "Instructions for updating:\n",
      "Please use `rate` instead of `keep_prob`. Rate should be set to `rate = 1 - keep_prob`.\n",
      "W0703 23:27:46.444675 140639730284288 deprecation_wrapper.py:119] From /usr/local/miniconda3/envs/dl/lib/python3.6/site-packages/keras/optimizers.py:790: The name tf.train.Optimizer is deprecated. Please use tf.compat.v1.train.Optimizer instead.\n",
      "\n",
      "W0703 23:27:46.466003 140639730284288 deprecation.py:323] From /usr/local/miniconda3/envs/dl/lib/python3.6/site-packages/tensorflow/python/ops/nn_impl.py:180: add_dispatch_support.<locals>.wrapper (from tensorflow.python.ops.array_ops) is deprecated and will be removed in a future version.\n",
      "Instructions for updating:\n",
      "Use tf.where in 2.0, which has the same broadcast rule as np.where\n"
     ]
    }
   ],
   "source": [
    "from keras import models\n",
    "from keras import layers\n",
    "from keras import optimizers\n",
    "\n",
    "model = models.Sequential()\n",
    "model.add(layers.Dense(256, activation = 'relu', input_dim = 4 * 4 * 512))\n",
    "model.add(layers.Dropout(0.5))\n",
    "model.add(layers.Dense(1, activation = 'sigmoid'))\n",
    "\n",
    "model.compile(optimizer = optimizers.RMSprop(lr = 2e-5),\n",
    "              loss = 'binary_crossentropy',\n",
    "              metrics = ['acc'])"
   ]
  },
  {
   "cell_type": "code",
   "execution_count": 9,
   "metadata": {
    "scrolled": true
   },
   "outputs": [
    {
     "name": "stdout",
     "output_type": "stream",
     "text": [
      "Train on 2000 samples, validate on 1000 samples\n",
      "Epoch 1/30\n",
      "2000/2000 [==============================] - 2s 1ms/step - loss: 0.6092 - acc: 0.6695 - val_loss: 0.4641 - val_acc: 0.7960\n",
      "Epoch 2/30\n",
      "2000/2000 [==============================] - 1s 516us/step - loss: 0.4419 - acc: 0.8035 - val_loss: 0.3688 - val_acc: 0.8610\n",
      "Epoch 3/30\n",
      "2000/2000 [==============================] - 1s 487us/step - loss: 0.3609 - acc: 0.8430 - val_loss: 0.3260 - val_acc: 0.8700\n",
      "Epoch 4/30\n",
      "2000/2000 [==============================] - 1s 491us/step - loss: 0.3152 - acc: 0.8730 - val_loss: 0.3007 - val_acc: 0.8810\n",
      "Epoch 5/30\n",
      "2000/2000 [==============================] - 1s 507us/step - loss: 0.2958 - acc: 0.8795 - val_loss: 0.2858 - val_acc: 0.8820\n",
      "Epoch 6/30\n",
      "2000/2000 [==============================] - 1s 517us/step - loss: 0.2724 - acc: 0.8955 - val_loss: 0.2923 - val_acc: 0.8790\n",
      "Epoch 7/30\n",
      "2000/2000 [==============================] - 1s 481us/step - loss: 0.2590 - acc: 0.9025 - val_loss: 0.2655 - val_acc: 0.8850\n",
      "Epoch 8/30\n",
      "2000/2000 [==============================] - 1s 538us/step - loss: 0.2370 - acc: 0.9090 - val_loss: 0.2598 - val_acc: 0.8840\n",
      "Epoch 9/30\n",
      "2000/2000 [==============================] - 1s 498us/step - loss: 0.2270 - acc: 0.9130 - val_loss: 0.2582 - val_acc: 0.8920\n",
      "Epoch 10/30\n",
      "2000/2000 [==============================] - 1s 518us/step - loss: 0.2142 - acc: 0.9175 - val_loss: 0.2504 - val_acc: 0.8970\n",
      "Epoch 11/30\n",
      "2000/2000 [==============================] - 1s 513us/step - loss: 0.1971 - acc: 0.9295 - val_loss: 0.2490 - val_acc: 0.8950\n",
      "Epoch 12/30\n",
      "2000/2000 [==============================] - 1s 500us/step - loss: 0.1890 - acc: 0.9265 - val_loss: 0.2442 - val_acc: 0.8990\n",
      "Epoch 13/30\n",
      "2000/2000 [==============================] - 1s 521us/step - loss: 0.1819 - acc: 0.9355 - val_loss: 0.2454 - val_acc: 0.8950\n",
      "Epoch 14/30\n",
      "2000/2000 [==============================] - 1s 499us/step - loss: 0.1694 - acc: 0.9390 - val_loss: 0.2478 - val_acc: 0.8920\n",
      "Epoch 15/30\n",
      "2000/2000 [==============================] - 1s 492us/step - loss: 0.1597 - acc: 0.9395 - val_loss: 0.2413 - val_acc: 0.9010\n",
      "Epoch 16/30\n",
      "2000/2000 [==============================] - 1s 503us/step - loss: 0.1567 - acc: 0.9395 - val_loss: 0.2398 - val_acc: 0.9020\n",
      "Epoch 17/30\n",
      "2000/2000 [==============================] - 1s 505us/step - loss: 0.1507 - acc: 0.9430 - val_loss: 0.2358 - val_acc: 0.9010\n",
      "Epoch 18/30\n",
      "2000/2000 [==============================] - 1s 515us/step - loss: 0.1506 - acc: 0.9470 - val_loss: 0.2355 - val_acc: 0.9000\n",
      "Epoch 19/30\n",
      "2000/2000 [==============================] - 1s 498us/step - loss: 0.1419 - acc: 0.9555 - val_loss: 0.2362 - val_acc: 0.8980\n",
      "Epoch 20/30\n",
      "2000/2000 [==============================] - 1s 524us/step - loss: 0.1320 - acc: 0.9580 - val_loss: 0.2369 - val_acc: 0.9070\n",
      "Epoch 21/30\n",
      "2000/2000 [==============================] - 1s 506us/step - loss: 0.1234 - acc: 0.9580 - val_loss: 0.2350 - val_acc: 0.9030\n",
      "Epoch 22/30\n",
      "2000/2000 [==============================] - 1s 493us/step - loss: 0.1203 - acc: 0.9610 - val_loss: 0.2396 - val_acc: 0.9010\n",
      "Epoch 23/30\n",
      "2000/2000 [==============================] - 1s 518us/step - loss: 0.1211 - acc: 0.9570 - val_loss: 0.2558 - val_acc: 0.8890\n",
      "Epoch 24/30\n",
      "2000/2000 [==============================] - 1s 500us/step - loss: 0.1156 - acc: 0.9620 - val_loss: 0.2403 - val_acc: 0.9020\n",
      "Epoch 25/30\n",
      "2000/2000 [==============================] - 1s 469us/step - loss: 0.1092 - acc: 0.9650 - val_loss: 0.2359 - val_acc: 0.9050\n",
      "Epoch 26/30\n",
      "2000/2000 [==============================] - 1s 540us/step - loss: 0.1032 - acc: 0.9600 - val_loss: 0.2405 - val_acc: 0.9000\n",
      "Epoch 27/30\n",
      "2000/2000 [==============================] - 1s 515us/step - loss: 0.1022 - acc: 0.9665 - val_loss: 0.2387 - val_acc: 0.9020\n",
      "Epoch 28/30\n",
      "2000/2000 [==============================] - 1s 493us/step - loss: 0.0985 - acc: 0.9695 - val_loss: 0.2394 - val_acc: 0.9010\n",
      "Epoch 29/30\n",
      "2000/2000 [==============================] - 1s 507us/step - loss: 0.0919 - acc: 0.9710 - val_loss: 0.2427 - val_acc: 0.9000\n",
      "Epoch 30/30\n",
      "2000/2000 [==============================] - 1s 507us/step - loss: 0.0863 - acc: 0.9780 - val_loss: 0.2513 - val_acc: 0.8960\n"
     ]
    }
   ],
   "source": [
    "history = model.fit(train_features, train_labels,\n",
    "                    epochs = 30, \n",
    "                    batch_size = 20,\n",
    "                    validation_data = (validation_features, validation_labels))"
   ]
  },
  {
   "cell_type": "markdown",
   "metadata": {},
   "source": [
    "### Let's look at loss and accuracy curves duuring training"
   ]
  },
  {
   "cell_type": "code",
   "execution_count": 11,
   "metadata": {},
   "outputs": [
    {
     "data": {
      "image/png": "[encoded data removed]",
      "text/plain": [
       "<Figure size 432x288 with 1 Axes>"
      ]
     },
     "metadata": {
      "needs_background": "light"
     },
     "output_type": "display_data"
    },
    {
     "data": {
      "image/png": "[encoded data removed]",
      "text/plain": [
       "<Figure size 432x288 with 1 Axes>"
      ]
     },
     "metadata": {
      "needs_background": "light"
     },
     "output_type": "display_data"
    }
   ],
   "source": [
    "import matplotlib.pyplot as plt\n",
    "\n",
    "acc = history.history['acc']\n",
    "val_acc = history.history['val_acc']\n",
    "loss = history.history['loss']\n",
    "val_loss = history.history['val_loss']\n",
    "\n",
    "epochs = range(1, len(acc) + 1)\n",
    "\n",
    "plt.plot(epochs, acc, 'bo', label='Training acc')\n",
    "plt.plot(epochs, val_acc, 'b', label='Validation acc')\n",
    "plt.title('Training and validation accuracy')\n",
    "plt.legend()\n",
    "\n",
    "plt.figure()\n",
    "plt.plot(epochs, loss, 'bo', label='Training loss')\n",
    "plt.plot(epochs, val_loss, 'b', label='Validation loss')\n",
    "plt.title('Training and validation loss')\n",
    "plt.legend()\n",
    "\n",
    "plt.show()"
   ]
  },
  {
   "cell_type": "markdown",
   "metadata": {},
   "source": [
    "### We reach a validation accuracy of about 90% --- much better than we achieved with the small model trained from scratch. But the plots also indicate that you're overfitting almost from the start --- despite using a dropout with a fairly large rate. \n",
    "\n",
    "### This is because this technique doesn't allow data augmentation, which is essential for preventing overfitting with small image datasets"
   ]
  },
  {
   "cell_type": "markdown",
   "metadata": {},
   "source": [
    "## M2:  Feature extraction with data augemntation"
   ]
  },
  {
   "cell_type": "markdown",
   "metadata": {},
   "source": [
    "### Extend the conv_base model and run it end to end on the inputs. Because models behave just like layers, you can add a model (like conv_base)  to a Sequential model just like before adding a layer"
   ]
  },
  {
   "cell_type": "code",
   "execution_count": 12,
   "metadata": {},
   "outputs": [],
   "source": [
    "from keras import models\n",
    "from keras import layers\n",
    "\n",
    "model = models.Sequential()\n",
    "model.add(conv_base)\n",
    "model.add(layers.Flatten())\n",
    "model.add(layers.Dense(256, activation = 'relu'))\n",
    "model.add(layers.Dense(1, activation = 'sigmoid'))"
   ]
  },
  {
   "cell_type": "code",
   "execution_count": 13,
   "metadata": {},
   "outputs": [
    {
     "name": "stdout",
     "output_type": "stream",
     "text": [
      "_________________________________________________________________\n",
      "Layer (type)                 Output Shape              Param #   \n",
      "=================================================================\n",
      "vgg16 (Model)                (None, 4, 4, 512)         14714688  \n",
      "_________________________________________________________________\n",
      "flatten_1 (Flatten)          (None, 8192)              0         \n",
      "_________________________________________________________________\n",
      "dense_3 (Dense)              (None, 256)               2097408   \n",
      "_________________________________________________________________\n",
      "dense_4 (Dense)              (None, 1)                 257       \n",
      "=================================================================\n",
      "Total params: 16,812,353\n",
      "Trainable params: 16,812,353\n",
      "Non-trainable params: 0\n",
      "_________________________________________________________________\n"
     ]
    }
   ],
   "source": [
    "model.summary()"
   ]
  },
  {
   "cell_type": "markdown",
   "metadata": {},
   "source": [
    "### As you can see, the convolutional base of VGG16 has 14, 714, 688 parameters, which is very large. The classifier you are adding on top has 2 million parameters"
   ]
  },
  {
   "cell_type": "markdown",
   "metadata": {},
   "source": [
    "### Before we compile and train the model, it's very important to freeze the convolutional base.\n",
    "### *Freezing* a layer means preventing their weights from being updated during training. If you don't do this, then the representations that were previously learned by the convolutional base will be modified during training. Because the Dense layers on top are randomly initialized, very large weight updates would be propagated through the network, effectively destroying the representations previously learned."
   ]
  },
  {
   "cell_type": "code",
   "execution_count": 14,
   "metadata": {},
   "outputs": [
    {
     "name": "stdout",
     "output_type": "stream",
     "text": [
      "This is the number of trainable weights before freezing the conv_base: 30\n",
      "This is the number of trainable weights after freezing the conv_base: 4\n"
     ]
    }
   ],
   "source": [
    "# In Keras, we freeze a networkk by setting *trainable* attribute to False\n",
    "\n",
    "print('This is the number of trainable weights before freezing the conv_base:', len(model.trainable_weights))\n",
    "\n",
    "conv_base.trainable = False\n",
    "\n",
    "print('This is the number of trainable weights after freezing the conv_base:', len(model.trainable_weights))"
   ]
  },
  {
   "cell_type": "markdown",
   "metadata": {},
   "source": [
    "### With this setup, only the weights from the two Dense layers that you added will be trained: That's a total of 4 weight tensors: two per layer (weight matrix and bias vector).\n",
    "\n",
    "### Note that in order for these changes to take effect, you must first compile the model. If you ever modify the trainability after compilation, then you should re-compile it, otherwise these changes will be ignored."
   ]
  },
  {
   "cell_type": "markdown",
   "metadata": {},
   "source": [
    "### Now we can use the same data augmentation technique as before:"
   ]
  },
  {
   "cell_type": "code",
   "execution_count": 15,
   "metadata": {},
   "outputs": [
    {
     "name": "stdout",
     "output_type": "stream",
     "text": [
      "Found 2000 images belonging to 2 classes.\n",
      "Found 1000 images belonging to 2 classes.\n"
     ]
    }
   ],
   "source": [
    "from keras.preprocessing.image import ImageDataGenerator\n",
    "from keras import optimizers\n",
    "\n",
    "train_datagen = ImageDataGenerator(\n",
    "    rescale = 1./255,\n",
    "    rotation_range = 40,\n",
    "    width_shift_range = 0.2,\n",
    "    height_shift_range = 0.2,\n",
    "    shear_range = 0.2,\n",
    "    zoom_range = 0.2,\n",
    "    horizontal_flip = True,\n",
    "    fill_mode = 'nearest')\n",
    "\n",
    "test_datagen = ImageDataGenerator(rescale = 1./255) # note validaiton data cannot be augmented !!!\n",
    "\n",
    "train_generator = train_datagen.flow_from_directory(\n",
    "    train_dir,\n",
    "    target_size = (150, 150),\n",
    "    batch_size = 20,\n",
    "    class_mode = 'binary')\n",
    "\n",
    "validation_generator = test_datagen.flow_from_directory(\n",
    "    validation_dir,\n",
    "    target_size = (150, 150), \n",
    "    batch_size = 20, \n",
    "    class_mode = 'binary')\n",
    "\n",
    "model.compile(loss = 'binary_crossentropy',\n",
    "              optimizer = optimizers.RMSprop(lr = 2e-5),\n",
    "              metrics = ['acc'])"
   ]
  },
  {
   "cell_type": "code",
   "execution_count": 16,
   "metadata": {
    "scrolled": true
   },
   "outputs": [
    {
     "name": "stdout",
     "output_type": "stream",
     "text": [
      "Epoch 1/30\n",
      "100/100 [==============================] - 39s 388ms/step - loss: 0.5885 - acc: 0.6880 - val_loss: 0.4450 - val_acc: 0.8330\n",
      "Epoch 2/30\n",
      "100/100 [==============================] - 35s 347ms/step - loss: 0.4786 - acc: 0.7875 - val_loss: 0.3756 - val_acc: 0.8500\n",
      "Epoch 3/30\n",
      "100/100 [==============================] - 34s 342ms/step - loss: 0.4296 - acc: 0.8055 - val_loss: 0.3279 - val_acc: 0.8720\n",
      "Epoch 4/30\n",
      "100/100 [==============================] - 35s 353ms/step - loss: 0.4067 - acc: 0.8220 - val_loss: 0.3091 - val_acc: 0.8700\n",
      "Epoch 5/30\n",
      "100/100 [==============================] - 35s 352ms/step - loss: 0.3868 - acc: 0.8280 - val_loss: 0.2956 - val_acc: 0.8780\n",
      "Epoch 6/30\n",
      "100/100 [==============================] - 35s 347ms/step - loss: 0.3596 - acc: 0.8395 - val_loss: 0.2839 - val_acc: 0.8870\n",
      "Epoch 7/30\n",
      "100/100 [==============================] - 35s 351ms/step - loss: 0.3585 - acc: 0.8405 - val_loss: 0.2771 - val_acc: 0.8870\n",
      "Epoch 8/30\n",
      "100/100 [==============================] - 35s 350ms/step - loss: 0.3522 - acc: 0.8495 - val_loss: 0.2714 - val_acc: 0.8900\n",
      "Epoch 9/30\n",
      "100/100 [==============================] - 36s 358ms/step - loss: 0.3473 - acc: 0.8485 - val_loss: 0.2644 - val_acc: 0.8920\n",
      "Epoch 10/30\n",
      "100/100 [==============================] - 35s 352ms/step - loss: 0.3367 - acc: 0.8465 - val_loss: 0.2629 - val_acc: 0.8880\n",
      "Epoch 11/30\n",
      "100/100 [==============================] - 35s 349ms/step - loss: 0.3230 - acc: 0.8640 - val_loss: 0.2574 - val_acc: 0.8940\n",
      "Epoch 12/30\n",
      "100/100 [==============================] - 35s 353ms/step - loss: 0.3323 - acc: 0.8495 - val_loss: 0.2565 - val_acc: 0.8900\n",
      "Epoch 13/30\n",
      "100/100 [==============================] - 35s 352ms/step - loss: 0.3362 - acc: 0.8570 - val_loss: 0.2624 - val_acc: 0.8840\n",
      "Epoch 14/30\n",
      "100/100 [==============================] - 36s 356ms/step - loss: 0.3269 - acc: 0.8555 - val_loss: 0.2578 - val_acc: 0.8860\n",
      "Epoch 15/30\n",
      "100/100 [==============================] - 35s 351ms/step - loss: 0.3059 - acc: 0.8665 - val_loss: 0.2479 - val_acc: 0.8920\n",
      "Epoch 16/30\n",
      "100/100 [==============================] - 35s 350ms/step - loss: 0.3157 - acc: 0.8625 - val_loss: 0.2486 - val_acc: 0.8940\n",
      "Epoch 17/30\n",
      "100/100 [==============================] - 35s 353ms/step - loss: 0.3065 - acc: 0.8660 - val_loss: 0.2450 - val_acc: 0.8940\n",
      "Epoch 18/30\n",
      "100/100 [==============================] - 35s 353ms/step - loss: 0.3063 - acc: 0.8635 - val_loss: 0.2665 - val_acc: 0.8860\n",
      "Epoch 19/30\n",
      "100/100 [==============================] - 35s 354ms/step - loss: 0.2908 - acc: 0.8845 - val_loss: 0.2421 - val_acc: 0.8950\n",
      "Epoch 20/30\n",
      "100/100 [==============================] - 36s 356ms/step - loss: 0.2951 - acc: 0.8735 - val_loss: 0.2433 - val_acc: 0.8980\n",
      "Epoch 21/30\n",
      "100/100 [==============================] - 37s 365ms/step - loss: 0.3057 - acc: 0.8685 - val_loss: 0.2394 - val_acc: 0.8990\n",
      "Epoch 22/30\n",
      "100/100 [==============================] - 36s 364ms/step - loss: 0.2985 - acc: 0.8745 - val_loss: 0.2386 - val_acc: 0.8980\n",
      "Epoch 23/30\n",
      "100/100 [==============================] - 36s 356ms/step - loss: 0.3081 - acc: 0.8590 - val_loss: 0.2378 - val_acc: 0.8970\n",
      "Epoch 24/30\n",
      "100/100 [==============================] - 35s 355ms/step - loss: 0.2930 - acc: 0.8760 - val_loss: 0.2420 - val_acc: 0.8960\n",
      "Epoch 25/30\n",
      "100/100 [==============================] - 36s 357ms/step - loss: 0.2970 - acc: 0.8705 - val_loss: 0.2386 - val_acc: 0.8980\n",
      "Epoch 26/30\n",
      "100/100 [==============================] - 36s 360ms/step - loss: 0.3005 - acc: 0.8665 - val_loss: 0.2385 - val_acc: 0.9030\n",
      "Epoch 27/30\n",
      "100/100 [==============================] - 36s 364ms/step - loss: 0.2904 - acc: 0.8680 - val_loss: 0.2387 - val_acc: 0.8950\n",
      "Epoch 28/30\n",
      "100/100 [==============================] - 35s 347ms/step - loss: 0.2804 - acc: 0.8750 - val_loss: 0.2392 - val_acc: 0.9000\n",
      "Epoch 29/30\n",
      "100/100 [==============================] - 35s 351ms/step - loss: 0.2899 - acc: 0.8770 - val_loss: 0.2400 - val_acc: 0.9010\n",
      "Epoch 30/30\n",
      "100/100 [==============================] - 35s 347ms/step - loss: 0.2949 - acc: 0.8720 - val_loss: 0.2388 - val_acc: 0.8990\n"
     ]
    }
   ],
   "source": [
    "history = model.fit_generator(\n",
    "    train_generator,\n",
    "    steps_per_epoch = 100,\n",
    "    epochs = 30,\n",
    "    validation_data = validation_generator,\n",
    "    validation_steps = 50)"
   ]
  },
  {
   "cell_type": "markdown",
   "metadata": {},
   "source": [
    "### Let's plot the results again,  as you can see we reach a validation accuracy of about 96%, much better than achieved with the small convnet trained from scratch and no obvious overfitting problem."
   ]
  },
  {
   "cell_type": "code",
   "execution_count": 17,
   "metadata": {},
   "outputs": [
    {
     "data": {
      "image/png": "[encoded data removed]",
      "text/plain": [
       "<Figure size 432x288 with 1 Axes>"
      ]
     },
     "metadata": {
      "needs_background": "light"
     },
     "output_type": "display_data"
    },
    {
     "data": {
      "image/png": "[encoded data removed]",
      "text/plain": [
       "<Figure size 432x288 with 1 Axes>"
      ]
     },
     "metadata": {
      "needs_background": "light"
     },
     "output_type": "display_data"
    }
   ],
   "source": [
    "import matplotlib.pyplot as plt\n",
    "\n",
    "acc = history.history['acc']\n",
    "val_acc = history.history['val_acc']\n",
    "loss = history.history['loss']\n",
    "val_loss = history.history['val_loss']\n",
    "\n",
    "epochs = range(1, len(acc) + 1)\n",
    "\n",
    "plt.plot(epochs, acc, 'bo', label='Training acc')\n",
    "plt.plot(epochs, val_acc, 'b', label='Validation acc')\n",
    "plt.title('Training and validation accuracy')\n",
    "plt.legend()\n",
    "\n",
    "plt.figure()\n",
    "plt.plot(epochs, loss, 'bo', label='Training loss')\n",
    "plt.plot(epochs, val_loss, 'b', label='Validation loss')\n",
    "plt.title('Training and validation loss')\n",
    "plt.legend()\n",
    "\n",
    "plt.show()"
   ]
  },
  {
   "cell_type": "markdown",
   "metadata": {},
   "source": [
    "## 5.3.2 Fine-tuning (模型微调)"
   ]
  },
  {
   "cell_type": "markdown",
   "metadata": {},
   "source": [
    "### Fine-tuning consists of unfreezing a few of the *top* layers of a frozen model base used for feature extraction, and jointly training both the newly added part of the model (in this case, the Dense layers)\n",
    "\n",
    "### This is called *fine-tuning* because it slightly adjusts the more *abstract*  representations of the model being reused, in order to make them more relevant for the problem at hand."
   ]
  },
  {
   "cell_type": "markdown",
   "metadata": {},
   "source": [
    "### We earlier said it's necessary to freeze the convolutional base of VGG16 in order to be able to train a randomly initialized classifier on top. For the same reason, it's only possible to fine-tune the top layers of the convolutional base once the classifier on top has ALREADY been trained.\n",
    "\n",
    "### If the classifier isn't alreadyt trained, then the error signal propagating through the network during training will be too large, and the representations previously learned by the layers being fine-tuned will be destroyed. Thus the steps for fine-tuning a network are as follows:\n",
    "\n",
    "### 1) Add your custom network on top of an already-trained base network;\n",
    "### 2) Freeze the base network;\n",
    "### 3) Train the part you added;\n",
    "### 4) Unfreeze some layers in the base network;\n",
    "### 5) Jointly train both these layers and the part you added."
   ]
  },
  {
   "cell_type": "markdown",
   "metadata": {},
   "source": [
    "### We have finished the first 3 steps when doing feature extraction. Let;s proceed with step 4: unfreeze the conv_base and then freeze individual layers inside it.\n",
    "\n",
    "### As a reminder, this is what the convolutional base looks like:"
   ]
  },
  {
   "cell_type": "code",
   "execution_count": 18,
   "metadata": {},
   "outputs": [
    {
     "name": "stdout",
     "output_type": "stream",
     "text": [
      "_________________________________________________________________\n",
      "Layer (type)                 Output Shape              Param #   \n",
      "=================================================================\n",
      "input_1 (InputLayer)         (None, 150, 150, 3)       0         \n",
      "_________________________________________________________________\n",
      "block1_conv1 (Conv2D)        (None, 150, 150, 64)      1792      \n",
      "_________________________________________________________________\n",
      "block1_conv2 (Conv2D)        (None, 150, 150, 64)      36928     \n",
      "_________________________________________________________________\n",
      "block1_pool (MaxPooling2D)   (None, 75, 75, 64)        0         \n",
      "_________________________________________________________________\n",
      "block2_conv1 (Conv2D)        (None, 75, 75, 128)       73856     \n",
      "_________________________________________________________________\n",
      "block2_conv2 (Conv2D)        (None, 75, 75, 128)       147584    \n",
      "_________________________________________________________________\n",
      "block2_pool (MaxPooling2D)   (None, 37, 37, 128)       0         \n",
      "_________________________________________________________________\n",
      "block3_conv1 (Conv2D)        (None, 37, 37, 256)       295168    \n",
      "_________________________________________________________________\n",
      "block3_conv2 (Conv2D)        (None, 37, 37, 256)       590080    \n",
      "_________________________________________________________________\n",
      "block3_conv3 (Conv2D)        (None, 37, 37, 256)       590080    \n",
      "_________________________________________________________________\n",
      "block3_pool (MaxPooling2D)   (None, 18, 18, 256)       0         \n",
      "_________________________________________________________________\n",
      "block4_conv1 (Conv2D)        (None, 18, 18, 512)       1180160   \n",
      "_________________________________________________________________\n",
      "block4_conv2 (Conv2D)        (None, 18, 18, 512)       2359808   \n",
      "_________________________________________________________________\n",
      "block4_conv3 (Conv2D)        (None, 18, 18, 512)       2359808   \n",
      "_________________________________________________________________\n",
      "block4_pool (MaxPooling2D)   (None, 9, 9, 512)         0         \n",
      "_________________________________________________________________\n",
      "block5_conv1 (Conv2D)        (None, 9, 9, 512)         2359808   \n",
      "_________________________________________________________________\n",
      "block5_conv2 (Conv2D)        (None, 9, 9, 512)         2359808   \n",
      "_________________________________________________________________\n",
      "block5_conv3 (Conv2D)        (None, 9, 9, 512)         2359808   \n",
      "_________________________________________________________________\n",
      "block5_pool (MaxPooling2D)   (None, 4, 4, 512)         0         \n",
      "=================================================================\n",
      "Total params: 14,714,688\n",
      "Trainable params: 0\n",
      "Non-trainable params: 14,714,688\n",
      "_________________________________________________________________\n"
     ]
    }
   ],
   "source": [
    "conv_base.summary()"
   ]
  },
  {
   "cell_type": "markdown",
   "metadata": {},
   "source": [
    "### We fine-tune the last three convolutional layers: block5_conv1, block5_conv2 & block5_conv3 should be trainable.\n",
    "## WHY not fine-tune more layers ? WHY not fine-tune the whole convolutional base ? \n",
    "### Of course, you could. But you need to consider the following:\n",
    "### 1) Earlier layers in the conv_base encode more generic, reusable featrues, whereas layers higher up encode more specialized features. It's more useful to fine-tune the more specialized features, because these are the ones that need to be repurposed on the new problem;\n",
    "\n",
    "### 2) The more parameters you are training, the more you are at risk of overfitting\n",
    "\n",
    "### Thus it's a good strategy to fine-tune only the top two or three layers in the conv_base. Let's see this up, strarting from where you left off in the previous example"
   ]
  },
  {
   "cell_type": "code",
   "execution_count": 19,
   "metadata": {},
   "outputs": [],
   "source": [
    "conv_base.trainable = True\n",
    "\n",
    "set_trainable = False\n",
    "for layer in conv_base.layers:\n",
    "    if layer.name == 'block5_conv1':  # after loop to block5_conv1, the set_trainable will always be True\n",
    "        set_trainable = True\n",
    "    if set_trainable:\n",
    "        layer.trainable = True\n",
    "    else:\n",
    "        layer.trainable = False"
   ]
  },
  {
   "cell_type": "markdown",
   "metadata": {},
   "source": [
    "### Now we can begin fine-tune the network. You'll do this with the RMSprop optimizer, using a very low learning rate. The reason for using a low learning rate is that you want to limit the magnitude of the modifications you make to the representations of the three layers you're fine-tuning. Updates that are too large may harm these representations"
   ]
  },
  {
   "cell_type": "code",
   "execution_count": 20,
   "metadata": {},
   "outputs": [],
   "source": [
    "model.compile(loss = 'binary_crossentropy',\n",
    "              optimizer = optimizers.RMSprop(lr = 1e-5),\n",
    "              metrics = ['acc'])"
   ]
  },
  {
   "cell_type": "code",
   "execution_count": 21,
   "metadata": {
    "scrolled": true
   },
   "outputs": [
    {
     "name": "stdout",
     "output_type": "stream",
     "text": [
      "Epoch 1/30\n",
      "100/100 [==============================] - 40s 396ms/step - loss: 0.3041 - acc: 0.8625 - val_loss: 0.2982 - val_acc: 0.8840\n",
      "Epoch 2/30\n",
      "100/100 [==============================] - 35s 354ms/step - loss: 0.2525 - acc: 0.8925 - val_loss: 0.2334 - val_acc: 0.9100\n",
      "Epoch 3/30\n",
      "100/100 [==============================] - 35s 352ms/step - loss: 0.2287 - acc: 0.9105 - val_loss: 0.1966 - val_acc: 0.9170\n",
      "Epoch 4/30\n",
      "100/100 [==============================] - 36s 359ms/step - loss: 0.2165 - acc: 0.9125 - val_loss: 0.2056 - val_acc: 0.9140\n",
      "Epoch 5/30\n",
      "100/100 [==============================] - 35s 348ms/step - loss: 0.2076 - acc: 0.9155 - val_loss: 0.1971 - val_acc: 0.9240\n",
      "Epoch 6/30\n",
      "100/100 [==============================] - 36s 357ms/step - loss: 0.1872 - acc: 0.9275 - val_loss: 0.1927 - val_acc: 0.9320\n",
      "Epoch 7/30\n",
      "100/100 [==============================] - 36s 355ms/step - loss: 0.1812 - acc: 0.9255 - val_loss: 0.1841 - val_acc: 0.9280\n",
      "Epoch 8/30\n",
      "100/100 [==============================] - 36s 359ms/step - loss: 0.1688 - acc: 0.9325 - val_loss: 0.2033 - val_acc: 0.9220\n",
      "Epoch 9/30\n",
      "100/100 [==============================] - 36s 360ms/step - loss: 0.1595 - acc: 0.9385 - val_loss: 0.1972 - val_acc: 0.9260\n",
      "Epoch 10/30\n",
      "100/100 [==============================] - 36s 364ms/step - loss: 0.1656 - acc: 0.9330 - val_loss: 0.1751 - val_acc: 0.9340\n",
      "Epoch 11/30\n",
      "100/100 [==============================] - 34s 342ms/step - loss: 0.1345 - acc: 0.9495 - val_loss: 0.2313 - val_acc: 0.9140\n",
      "Epoch 12/30\n",
      "100/100 [==============================] - 35s 353ms/step - loss: 0.1446 - acc: 0.9415 - val_loss: 0.1735 - val_acc: 0.9380\n",
      "Epoch 13/30\n",
      "100/100 [==============================] - 35s 354ms/step - loss: 0.1247 - acc: 0.9535 - val_loss: 0.1876 - val_acc: 0.9310\n",
      "Epoch 14/30\n",
      "100/100 [==============================] - 36s 357ms/step - loss: 0.1110 - acc: 0.9580 - val_loss: 0.1778 - val_acc: 0.9300\n",
      "Epoch 15/30\n",
      "100/100 [==============================] - 36s 359ms/step - loss: 0.1295 - acc: 0.9455 - val_loss: 0.1830 - val_acc: 0.9350\n",
      "Epoch 16/30\n",
      "100/100 [==============================] - 35s 347ms/step - loss: 0.1068 - acc: 0.9605 - val_loss: 0.2130 - val_acc: 0.9320\n",
      "Epoch 17/30\n",
      "100/100 [==============================] - 35s 355ms/step - loss: 0.1169 - acc: 0.9520 - val_loss: 0.1868 - val_acc: 0.9350\n",
      "Epoch 18/30\n",
      "100/100 [==============================] - 35s 352ms/step - loss: 0.1038 - acc: 0.9620 - val_loss: 0.2015 - val_acc: 0.9320\n",
      "Epoch 19/30\n",
      "100/100 [==============================] - 36s 355ms/step - loss: 0.1139 - acc: 0.9520 - val_loss: 0.1810 - val_acc: 0.9380\n",
      "Epoch 20/30\n",
      "100/100 [==============================] - 35s 354ms/step - loss: 0.0982 - acc: 0.9610 - val_loss: 0.1854 - val_acc: 0.9390\n",
      "Epoch 21/30\n",
      "100/100 [==============================] - 36s 356ms/step - loss: 0.0954 - acc: 0.9645 - val_loss: 0.1824 - val_acc: 0.9300\n",
      "Epoch 22/30\n",
      "100/100 [==============================] - 36s 360ms/step - loss: 0.0796 - acc: 0.9685 - val_loss: 0.2074 - val_acc: 0.9350\n",
      "Epoch 23/30\n",
      "100/100 [==============================] - 35s 354ms/step - loss: 0.0864 - acc: 0.9655 - val_loss: 0.2041 - val_acc: 0.9340\n",
      "Epoch 24/30\n",
      "100/100 [==============================] - 35s 354ms/step - loss: 0.0921 - acc: 0.9640 - val_loss: 0.1771 - val_acc: 0.9350\n",
      "Epoch 25/30\n",
      "100/100 [==============================] - 36s 359ms/step - loss: 0.0727 - acc: 0.9690 - val_loss: 0.2218 - val_acc: 0.9300\n",
      "Epoch 26/30\n",
      "100/100 [==============================] - 35s 354ms/step - loss: 0.0756 - acc: 0.9705 - val_loss: 0.2030 - val_acc: 0.9250\n",
      "Epoch 27/30\n",
      "100/100 [==============================] - 35s 355ms/step - loss: 0.0692 - acc: 0.9725 - val_loss: 0.1945 - val_acc: 0.9380\n",
      "Epoch 28/30\n",
      "100/100 [==============================] - 36s 356ms/step - loss: 0.0710 - acc: 0.9740 - val_loss: 0.2094 - val_acc: 0.9330\n",
      "Epoch 29/30\n",
      "100/100 [==============================] - 35s 350ms/step - loss: 0.0757 - acc: 0.9750 - val_loss: 0.2516 - val_acc: 0.9280\n",
      "Epoch 30/30\n",
      "100/100 [==============================] - 36s 358ms/step - loss: 0.0776 - acc: 0.9680 - val_loss: 0.1775 - val_acc: 0.9350\n"
     ]
    }
   ],
   "source": [
    "history = model.fit_generator(\n",
    "    train_generator,\n",
    "    steps_per_epoch = 100,\n",
    "    epochs = 30,\n",
    "    validation_data = validation_generator,\n",
    "    validation_steps = 50)"
   ]
  },
  {
   "cell_type": "markdown",
   "metadata": {},
   "source": [
    "### Let's plot the results as before"
   ]
  },
  {
   "cell_type": "code",
   "execution_count": 22,
   "metadata": {},
   "outputs": [
    {
     "data": {
      "image/png": "[encoded data removed]",
      "text/plain": [
       "<Figure size 432x288 with 1 Axes>"
      ]
     },
     "metadata": {
      "needs_background": "light"
     },
     "output_type": "display_data"
    },
    {
     "data": {
      "image/png": "[encoded data removed]",
      "text/plain": [
       "<Figure size 432x288 with 1 Axes>"
      ]
     },
     "metadata": {
      "needs_background": "light"
     },
     "output_type": "display_data"
    }
   ],
   "source": [
    "import matplotlib.pyplot as plt\n",
    "\n",
    "acc = history.history['acc']\n",
    "val_acc = history.history['val_acc']\n",
    "loss = history.history['loss']\n",
    "val_loss = history.history['val_loss']\n",
    "\n",
    "epochs = range(1, len(acc) + 1)\n",
    "\n",
    "plt.plot(epochs, acc, 'bo', label='Training acc')\n",
    "plt.plot(epochs, val_acc, 'b', label='Validation acc')\n",
    "plt.title('Training and validation accuracy')\n",
    "plt.legend()\n",
    "\n",
    "plt.figure()\n",
    "plt.plot(epochs, loss, 'bo', label='Training loss')\n",
    "plt.plot(epochs, val_loss, 'b', label='Validation loss')\n",
    "plt.title('Training and validation loss')\n",
    "plt.legend()\n",
    "\n",
    "plt.show()"
   ]
  },
  {
   "cell_type": "markdown",
   "metadata": {},
   "source": [
    "### The curves look noisy, you can smooth them by replacing  every loss and accuracy with exponential moving averages of these quantities. Here's a trivial utility function to do this:"
   ]
  },
  {
   "cell_type": "code",
   "execution_count": 23,
   "metadata": {},
   "outputs": [
    {
     "data": {
      "image/png": "[encoded data removed]",
      "text/plain": [
       "<Figure size 432x288 with 1 Axes>"
      ]
     },
     "metadata": {
      "needs_background": "light"
     },
     "output_type": "display_data"
    },
    {
     "data": {
      "image/png": "[encoded data removed]",
      "text/plain": [
       "<Figure size 432x288 with 1 Axes>"
      ]
     },
     "metadata": {
      "needs_background": "light"
     },
     "output_type": "display_data"
    }
   ],
   "source": [
    "def smooth_curve(points, factor = 0.8):\n",
    "    smoothed_points = []\n",
    "    for point in points:\n",
    "        if smoothed_points:\n",
    "            previous = smoothed_points[-1]\n",
    "            smoothed_points.append(previous * factor + point * (1 - factor))\n",
    "        else:\n",
    "            smoothed_points.append(point)\n",
    "    return smoothed_points\n",
    "\n",
    "plt.plot(epochs, smooth_curve(acc), 'bo', label='Smoothed training acc')\n",
    "plt.plot(epochs, smooth_curve(val_acc), 'b', label='Smoothed validation acc')\n",
    "plt.title('Training and validation accuracy')\n",
    "plt.legend()\n",
    "\n",
    "plt.figure()\n",
    "plt.plot(epochs, smooth_curve(loss), 'bo', label='Smoothed training loss')\n",
    "plt.plot(epochs, smooth_curve(val_loss), 'b', label='Smoothed validation loss')\n",
    "plt.title('Training and validation loss')\n",
    "plt.legend()\n",
    "\n",
    "plt.show()"
   ]
  },
  {
   "cell_type": "markdown",
   "metadata": {},
   "source": [
    "### The validation accuracy curve looks much cleaner. You see a nice 1% absolute improvement in accuracy, from about 96% to 97%\n",
    "### Note that the loss curve doesn't show any real improvement (in fact, it's deteriorating). That's because what you display is an average of pointwise loss values, but what matters for accurcay is the distribution of loss values, not their average. The model may still be improving even if this isn't reflected in the average loss."
   ]
  },
  {
   "cell_type": "markdown",
   "metadata": {},
   "source": [
    "### Now we can finally evaluate this model on the test data:"
   ]
  },
  {
   "cell_type": "code",
   "execution_count": 24,
   "metadata": {},
   "outputs": [
    {
     "name": "stdout",
     "output_type": "stream",
     "text": [
      "Found 1000 images belonging to 2 classes.\n",
      "test acc: 0.9419999921321869\n"
     ]
    }
   ],
   "source": [
    "test_generator = test_datagen.flow_from_directory(\n",
    "    test_dir,\n",
    "    target_size = (150, 150),\n",
    "    batch_size = 20,\n",
    "    class_mode = 'binary')\n",
    "\n",
    "test_loss, test_acc = model.evaluate_generator(test_generator, steps = 50)\n",
    "print('test acc:', test_acc)"
   ]
  },
  {
   "cell_type": "markdown",
   "metadata": {},
   "source": [
    "### Here you get a test accuracy of 97%, which would be one of the top results in the original Kaggle competition, but we managed to reach it using only a small fraction of the training data available (about 10%)"
   ]
  },
  {
   "cell_type": "code",
   "execution_count": null,
   "metadata": {},
   "outputs": [],
   "source": []
  }
 ],
 "metadata": {
  "kernelspec": {
   "display_name": "Python 3",
   "language": "python",
   "name": "python3"
  },
  "language_info": {
   "codemirror_mode": {
    "name": "ipython",
    "version": 3
   },
   "file_extension": ".py",
   "mimetype": "text/x-python",
   "name": "python",
   "nbconvert_exporter": "python",
   "pygments_lexer": "ipython3",
   "version": "3.6.6"
  }
 },
 "nbformat": 4,
 "nbformat_minor": 2
}
